{
 "cells": [
  {
   "cell_type": "markdown",
   "id": "f3cbb59f",
   "metadata": {},
   "source": [
    "# ABALONE CASE STUDY"
   ]
  },
  {
   "cell_type": "markdown",
   "id": "b707a07c",
   "metadata": {},
   "source": [
    "## Importing Libreries\n"
   ]
  },
  {
   "cell_type": "code",
   "execution_count": 1,
   "id": "bdf83603",
   "metadata": {},
   "outputs": [],
   "source": [
    "#Import libreries \n",
    "\n",
    "import pandas as pd\n",
    "import numpy as np\n",
    "from sklearn.preprocessing import StandardScaler\n",
    "from sklearn.linear_model import LinearRegression\n",
    "from sklearn.model_selection import train_test_split\n",
    "import matplotlib.pyplot as plt\n",
    "import seaborn as sns\n",
    "import pickle\n",
    "\n",
    "import warnings\n",
    "warnings.filterwarnings(\"ignore\")"
   ]
  },
  {
   "cell_type": "markdown",
   "id": "1e501bef",
   "metadata": {},
   "source": [
    "Importing all required libraries"
   ]
  },
  {
   "cell_type": "markdown",
   "id": "9b51bd81",
   "metadata": {},
   "source": [
    "## Importing dataset\n"
   ]
  },
  {
   "cell_type": "code",
   "execution_count": 2,
   "id": "042332e1",
   "metadata": {},
   "outputs": [
    {
     "data": {
      "text/html": [
       "<div>\n",
       "<style scoped>\n",
       "    .dataframe tbody tr th:only-of-type {\n",
       "        vertical-align: middle;\n",
       "    }\n",
       "\n",
       "    .dataframe tbody tr th {\n",
       "        vertical-align: top;\n",
       "    }\n",
       "\n",
       "    .dataframe thead th {\n",
       "        text-align: right;\n",
       "    }\n",
       "</style>\n",
       "<table border=\"1\" class=\"dataframe\">\n",
       "  <thead>\n",
       "    <tr style=\"text-align: right;\">\n",
       "      <th></th>\n",
       "      <th>Sex</th>\n",
       "      <th>Length</th>\n",
       "      <th>Diameter</th>\n",
       "      <th>Height</th>\n",
       "      <th>Whole weight</th>\n",
       "      <th>Shucked weight</th>\n",
       "      <th>Viscera weight</th>\n",
       "      <th>Shell weight</th>\n",
       "      <th>Rings</th>\n",
       "    </tr>\n",
       "  </thead>\n",
       "  <tbody>\n",
       "    <tr>\n",
       "      <th>0</th>\n",
       "      <td>M</td>\n",
       "      <td>0.455</td>\n",
       "      <td>0.365</td>\n",
       "      <td>0.095</td>\n",
       "      <td>0.5140</td>\n",
       "      <td>0.2245</td>\n",
       "      <td>0.1010</td>\n",
       "      <td>0.1500</td>\n",
       "      <td>15</td>\n",
       "    </tr>\n",
       "    <tr>\n",
       "      <th>1</th>\n",
       "      <td>M</td>\n",
       "      <td>0.350</td>\n",
       "      <td>0.265</td>\n",
       "      <td>0.090</td>\n",
       "      <td>0.2255</td>\n",
       "      <td>0.0995</td>\n",
       "      <td>0.0485</td>\n",
       "      <td>0.0700</td>\n",
       "      <td>7</td>\n",
       "    </tr>\n",
       "    <tr>\n",
       "      <th>2</th>\n",
       "      <td>F</td>\n",
       "      <td>0.530</td>\n",
       "      <td>0.420</td>\n",
       "      <td>0.135</td>\n",
       "      <td>0.6770</td>\n",
       "      <td>0.2565</td>\n",
       "      <td>0.1415</td>\n",
       "      <td>0.2100</td>\n",
       "      <td>9</td>\n",
       "    </tr>\n",
       "    <tr>\n",
       "      <th>3</th>\n",
       "      <td>M</td>\n",
       "      <td>0.440</td>\n",
       "      <td>0.365</td>\n",
       "      <td>0.125</td>\n",
       "      <td>0.5160</td>\n",
       "      <td>0.2155</td>\n",
       "      <td>0.1140</td>\n",
       "      <td>0.1550</td>\n",
       "      <td>10</td>\n",
       "    </tr>\n",
       "    <tr>\n",
       "      <th>4</th>\n",
       "      <td>I</td>\n",
       "      <td>0.330</td>\n",
       "      <td>0.255</td>\n",
       "      <td>0.080</td>\n",
       "      <td>0.2050</td>\n",
       "      <td>0.0895</td>\n",
       "      <td>0.0395</td>\n",
       "      <td>0.0550</td>\n",
       "      <td>7</td>\n",
       "    </tr>\n",
       "    <tr>\n",
       "      <th>...</th>\n",
       "      <td>...</td>\n",
       "      <td>...</td>\n",
       "      <td>...</td>\n",
       "      <td>...</td>\n",
       "      <td>...</td>\n",
       "      <td>...</td>\n",
       "      <td>...</td>\n",
       "      <td>...</td>\n",
       "      <td>...</td>\n",
       "    </tr>\n",
       "    <tr>\n",
       "      <th>4172</th>\n",
       "      <td>F</td>\n",
       "      <td>0.565</td>\n",
       "      <td>0.450</td>\n",
       "      <td>0.165</td>\n",
       "      <td>0.8870</td>\n",
       "      <td>0.3700</td>\n",
       "      <td>0.2390</td>\n",
       "      <td>0.2490</td>\n",
       "      <td>11</td>\n",
       "    </tr>\n",
       "    <tr>\n",
       "      <th>4173</th>\n",
       "      <td>M</td>\n",
       "      <td>0.590</td>\n",
       "      <td>0.440</td>\n",
       "      <td>0.135</td>\n",
       "      <td>0.9660</td>\n",
       "      <td>0.4390</td>\n",
       "      <td>0.2145</td>\n",
       "      <td>0.2605</td>\n",
       "      <td>10</td>\n",
       "    </tr>\n",
       "    <tr>\n",
       "      <th>4174</th>\n",
       "      <td>M</td>\n",
       "      <td>0.600</td>\n",
       "      <td>0.475</td>\n",
       "      <td>0.205</td>\n",
       "      <td>1.1760</td>\n",
       "      <td>0.5255</td>\n",
       "      <td>0.2875</td>\n",
       "      <td>0.3080</td>\n",
       "      <td>9</td>\n",
       "    </tr>\n",
       "    <tr>\n",
       "      <th>4175</th>\n",
       "      <td>F</td>\n",
       "      <td>0.625</td>\n",
       "      <td>0.485</td>\n",
       "      <td>0.150</td>\n",
       "      <td>1.0945</td>\n",
       "      <td>0.5310</td>\n",
       "      <td>0.2610</td>\n",
       "      <td>0.2960</td>\n",
       "      <td>10</td>\n",
       "    </tr>\n",
       "    <tr>\n",
       "      <th>4176</th>\n",
       "      <td>M</td>\n",
       "      <td>0.710</td>\n",
       "      <td>0.555</td>\n",
       "      <td>0.195</td>\n",
       "      <td>1.9485</td>\n",
       "      <td>0.9455</td>\n",
       "      <td>0.3765</td>\n",
       "      <td>0.4950</td>\n",
       "      <td>12</td>\n",
       "    </tr>\n",
       "  </tbody>\n",
       "</table>\n",
       "<p>4177 rows × 9 columns</p>\n",
       "</div>"
      ],
      "text/plain": [
       "     Sex  Length  Diameter  Height  Whole weight  Shucked weight  \\\n",
       "0      M   0.455     0.365   0.095        0.5140          0.2245   \n",
       "1      M   0.350     0.265   0.090        0.2255          0.0995   \n",
       "2      F   0.530     0.420   0.135        0.6770          0.2565   \n",
       "3      M   0.440     0.365   0.125        0.5160          0.2155   \n",
       "4      I   0.330     0.255   0.080        0.2050          0.0895   \n",
       "...   ..     ...       ...     ...           ...             ...   \n",
       "4172   F   0.565     0.450   0.165        0.8870          0.3700   \n",
       "4173   M   0.590     0.440   0.135        0.9660          0.4390   \n",
       "4174   M   0.600     0.475   0.205        1.1760          0.5255   \n",
       "4175   F   0.625     0.485   0.150        1.0945          0.5310   \n",
       "4176   M   0.710     0.555   0.195        1.9485          0.9455   \n",
       "\n",
       "      Viscera weight  Shell weight  Rings  \n",
       "0             0.1010        0.1500     15  \n",
       "1             0.0485        0.0700      7  \n",
       "2             0.1415        0.2100      9  \n",
       "3             0.1140        0.1550     10  \n",
       "4             0.0395        0.0550      7  \n",
       "...              ...           ...    ...  \n",
       "4172          0.2390        0.2490     11  \n",
       "4173          0.2145        0.2605     10  \n",
       "4174          0.2875        0.3080      9  \n",
       "4175          0.2610        0.2960     10  \n",
       "4176          0.3765        0.4950     12  \n",
       "\n",
       "[4177 rows x 9 columns]"
      ]
     },
     "execution_count": 2,
     "metadata": {},
     "output_type": "execute_result"
    }
   ],
   "source": [
    "#Import the dataset\n",
    "\n",
    "df= pd.read_csv(\"https://raw.githubusercontent.com/dsrscientist/dataset1/master/abalone.csv\")\n",
    "df"
   ]
  },
  {
   "cell_type": "markdown",
   "id": "a1ccd5b0",
   "metadata": {},
   "source": [
    "Importing the dataset"
   ]
  },
  {
   "cell_type": "markdown",
   "id": "a30d5d2c",
   "metadata": {},
   "source": [
    "## Shape of data with number of rows and columns\n"
   ]
  },
  {
   "cell_type": "code",
   "execution_count": 3,
   "id": "3f511e64",
   "metadata": {},
   "outputs": [
    {
     "data": {
      "text/plain": [
       "(4177, 9)"
      ]
     },
     "execution_count": 3,
     "metadata": {},
     "output_type": "execute_result"
    }
   ],
   "source": [
    "df.shape"
   ]
  },
  {
   "cell_type": "markdown",
   "id": "94ac74f1",
   "metadata": {},
   "source": [
    "There are 4177 rows and 9 columns in dataset"
   ]
  },
  {
   "cell_type": "markdown",
   "id": "52fc50cf",
   "metadata": {},
   "source": [
    "## Detailed description\n"
   ]
  },
  {
   "cell_type": "code",
   "execution_count": 4,
   "id": "79c888c8",
   "metadata": {},
   "outputs": [
    {
     "data": {
      "text/html": [
       "<div>\n",
       "<style scoped>\n",
       "    .dataframe tbody tr th:only-of-type {\n",
       "        vertical-align: middle;\n",
       "    }\n",
       "\n",
       "    .dataframe tbody tr th {\n",
       "        vertical-align: top;\n",
       "    }\n",
       "\n",
       "    .dataframe thead th {\n",
       "        text-align: right;\n",
       "    }\n",
       "</style>\n",
       "<table border=\"1\" class=\"dataframe\">\n",
       "  <thead>\n",
       "    <tr style=\"text-align: right;\">\n",
       "      <th></th>\n",
       "      <th>Length</th>\n",
       "      <th>Diameter</th>\n",
       "      <th>Height</th>\n",
       "      <th>Whole weight</th>\n",
       "      <th>Shucked weight</th>\n",
       "      <th>Viscera weight</th>\n",
       "      <th>Shell weight</th>\n",
       "      <th>Rings</th>\n",
       "    </tr>\n",
       "  </thead>\n",
       "  <tbody>\n",
       "    <tr>\n",
       "      <th>count</th>\n",
       "      <td>4177.000000</td>\n",
       "      <td>4177.000000</td>\n",
       "      <td>4177.000000</td>\n",
       "      <td>4177.000000</td>\n",
       "      <td>4177.000000</td>\n",
       "      <td>4177.000000</td>\n",
       "      <td>4177.000000</td>\n",
       "      <td>4177.000000</td>\n",
       "    </tr>\n",
       "    <tr>\n",
       "      <th>mean</th>\n",
       "      <td>0.523992</td>\n",
       "      <td>0.407881</td>\n",
       "      <td>0.139516</td>\n",
       "      <td>0.828742</td>\n",
       "      <td>0.359367</td>\n",
       "      <td>0.180594</td>\n",
       "      <td>0.238831</td>\n",
       "      <td>9.933684</td>\n",
       "    </tr>\n",
       "    <tr>\n",
       "      <th>std</th>\n",
       "      <td>0.120093</td>\n",
       "      <td>0.099240</td>\n",
       "      <td>0.041827</td>\n",
       "      <td>0.490389</td>\n",
       "      <td>0.221963</td>\n",
       "      <td>0.109614</td>\n",
       "      <td>0.139203</td>\n",
       "      <td>3.224169</td>\n",
       "    </tr>\n",
       "    <tr>\n",
       "      <th>min</th>\n",
       "      <td>0.075000</td>\n",
       "      <td>0.055000</td>\n",
       "      <td>0.000000</td>\n",
       "      <td>0.002000</td>\n",
       "      <td>0.001000</td>\n",
       "      <td>0.000500</td>\n",
       "      <td>0.001500</td>\n",
       "      <td>1.000000</td>\n",
       "    </tr>\n",
       "    <tr>\n",
       "      <th>25%</th>\n",
       "      <td>0.450000</td>\n",
       "      <td>0.350000</td>\n",
       "      <td>0.115000</td>\n",
       "      <td>0.441500</td>\n",
       "      <td>0.186000</td>\n",
       "      <td>0.093500</td>\n",
       "      <td>0.130000</td>\n",
       "      <td>8.000000</td>\n",
       "    </tr>\n",
       "    <tr>\n",
       "      <th>50%</th>\n",
       "      <td>0.545000</td>\n",
       "      <td>0.425000</td>\n",
       "      <td>0.140000</td>\n",
       "      <td>0.799500</td>\n",
       "      <td>0.336000</td>\n",
       "      <td>0.171000</td>\n",
       "      <td>0.234000</td>\n",
       "      <td>9.000000</td>\n",
       "    </tr>\n",
       "    <tr>\n",
       "      <th>75%</th>\n",
       "      <td>0.615000</td>\n",
       "      <td>0.480000</td>\n",
       "      <td>0.165000</td>\n",
       "      <td>1.153000</td>\n",
       "      <td>0.502000</td>\n",
       "      <td>0.253000</td>\n",
       "      <td>0.329000</td>\n",
       "      <td>11.000000</td>\n",
       "    </tr>\n",
       "    <tr>\n",
       "      <th>max</th>\n",
       "      <td>0.815000</td>\n",
       "      <td>0.650000</td>\n",
       "      <td>1.130000</td>\n",
       "      <td>2.825500</td>\n",
       "      <td>1.488000</td>\n",
       "      <td>0.760000</td>\n",
       "      <td>1.005000</td>\n",
       "      <td>29.000000</td>\n",
       "    </tr>\n",
       "  </tbody>\n",
       "</table>\n",
       "</div>"
      ],
      "text/plain": [
       "            Length     Diameter       Height  Whole weight  Shucked weight  \\\n",
       "count  4177.000000  4177.000000  4177.000000   4177.000000     4177.000000   \n",
       "mean      0.523992     0.407881     0.139516      0.828742        0.359367   \n",
       "std       0.120093     0.099240     0.041827      0.490389        0.221963   \n",
       "min       0.075000     0.055000     0.000000      0.002000        0.001000   \n",
       "25%       0.450000     0.350000     0.115000      0.441500        0.186000   \n",
       "50%       0.545000     0.425000     0.140000      0.799500        0.336000   \n",
       "75%       0.615000     0.480000     0.165000      1.153000        0.502000   \n",
       "max       0.815000     0.650000     1.130000      2.825500        1.488000   \n",
       "\n",
       "       Viscera weight  Shell weight        Rings  \n",
       "count     4177.000000   4177.000000  4177.000000  \n",
       "mean         0.180594      0.238831     9.933684  \n",
       "std          0.109614      0.139203     3.224169  \n",
       "min          0.000500      0.001500     1.000000  \n",
       "25%          0.093500      0.130000     8.000000  \n",
       "50%          0.171000      0.234000     9.000000  \n",
       "75%          0.253000      0.329000    11.000000  \n",
       "max          0.760000      1.005000    29.000000  "
      ]
     },
     "execution_count": 4,
     "metadata": {},
     "output_type": "execute_result"
    }
   ],
   "source": [
    "df.describe()"
   ]
  },
  {
   "cell_type": "markdown",
   "id": "03de6e92",
   "metadata": {},
   "source": [
    "We can see the detailed description of all the rows and columns like count, mean value, standard deviation, minimum and maximum values, 25th, 50th(median) and 75th percentile."
   ]
  },
  {
   "cell_type": "markdown",
   "id": "29964e4d",
   "metadata": {},
   "source": [
    "## Datatypes of all columns\n"
   ]
  },
  {
   "cell_type": "code",
   "execution_count": 5,
   "id": "b003fecc",
   "metadata": {},
   "outputs": [
    {
     "data": {
      "text/plain": [
       "Sex                object\n",
       "Length            float64\n",
       "Diameter          float64\n",
       "Height            float64\n",
       "Whole weight      float64\n",
       "Shucked weight    float64\n",
       "Viscera weight    float64\n",
       "Shell weight      float64\n",
       "Rings               int64\n",
       "dtype: object"
      ]
     },
     "execution_count": 5,
     "metadata": {},
     "output_type": "execute_result"
    }
   ],
   "source": [
    "#check the data types of all the columns\n",
    "df.dtypes"
   ]
  },
  {
   "cell_type": "markdown",
   "id": "da110c91",
   "metadata": {},
   "source": [
    "We have object(string) datatype in sex column which are catogorical values, integer data type in rings column and rest are the floating values. All are independent variable except Rings. Rings is a target variable."
   ]
  },
  {
   "cell_type": "markdown",
   "id": "fca40295",
   "metadata": {},
   "source": [
    "## Checking is there any null value in dataset\n"
   ]
  },
  {
   "cell_type": "code",
   "execution_count": 6,
   "id": "3ad3a212",
   "metadata": {},
   "outputs": [
    {
     "data": {
      "text/plain": [
       "Sex               0\n",
       "Length            0\n",
       "Diameter          0\n",
       "Height            0\n",
       "Whole weight      0\n",
       "Shucked weight    0\n",
       "Viscera weight    0\n",
       "Shell weight      0\n",
       "Rings             0\n",
       "dtype: int64"
      ]
     },
     "execution_count": 6,
     "metadata": {},
     "output_type": "execute_result"
    }
   ],
   "source": [
    "#check is there any null value present in any column\n",
    "\n",
    "df.isnull().sum()"
   ]
  },
  {
   "cell_type": "markdown",
   "id": "045f9a35",
   "metadata": {},
   "source": [
    "We can see no null values present in the dataset. There are no missing values in whole dataset, so we can proceed safely."
   ]
  },
  {
   "cell_type": "code",
   "execution_count": 7,
   "id": "077b3279",
   "metadata": {},
   "outputs": [
    {
     "name": "stdout",
     "output_type": "stream",
     "text": [
      "<class 'pandas.core.frame.DataFrame'>\n",
      "RangeIndex: 4177 entries, 0 to 4176\n",
      "Data columns (total 9 columns):\n",
      " #   Column          Non-Null Count  Dtype  \n",
      "---  ------          --------------  -----  \n",
      " 0   Sex             4177 non-null   object \n",
      " 1   Length          4177 non-null   float64\n",
      " 2   Diameter        4177 non-null   float64\n",
      " 3   Height          4177 non-null   float64\n",
      " 4   Whole weight    4177 non-null   float64\n",
      " 5   Shucked weight  4177 non-null   float64\n",
      " 6   Viscera weight  4177 non-null   float64\n",
      " 7   Shell weight    4177 non-null   float64\n",
      " 8   Rings           4177 non-null   int64  \n",
      "dtypes: float64(7), int64(1), object(1)\n",
      "memory usage: 293.8+ KB\n"
     ]
    }
   ],
   "source": [
    "df.info()"
   ]
  },
  {
   "cell_type": "markdown",
   "id": "017a06ee",
   "metadata": {},
   "source": [
    "We can see the complete information about data frame."
   ]
  },
  {
   "cell_type": "code",
   "execution_count": 8,
   "id": "e83114a4",
   "metadata": {},
   "outputs": [
    {
     "data": {
      "text/plain": [
       "array([15,  7,  9, 10,  8, 20, 16, 19, 14, 11, 12, 18, 13,  5,  4,  6, 21,\n",
       "       17, 22,  1,  3, 26, 23, 29,  2, 27, 25, 24], dtype=int64)"
      ]
     },
     "execution_count": 8,
     "metadata": {},
     "output_type": "execute_result"
    }
   ],
   "source": [
    "df[\"Rings\"].unique()"
   ]
  },
  {
   "cell_type": "code",
   "execution_count": 9,
   "id": "8f4f36ff",
   "metadata": {},
   "outputs": [
    {
     "data": {
      "text/html": [
       "<div>\n",
       "<style scoped>\n",
       "    .dataframe tbody tr th:only-of-type {\n",
       "        vertical-align: middle;\n",
       "    }\n",
       "\n",
       "    .dataframe tbody tr th {\n",
       "        vertical-align: top;\n",
       "    }\n",
       "\n",
       "    .dataframe thead th {\n",
       "        text-align: right;\n",
       "    }\n",
       "</style>\n",
       "<table border=\"1\" class=\"dataframe\">\n",
       "  <thead>\n",
       "    <tr style=\"text-align: right;\">\n",
       "      <th></th>\n",
       "      <th>Sex</th>\n",
       "      <th>Length</th>\n",
       "      <th>Diameter</th>\n",
       "      <th>Height</th>\n",
       "      <th>Whole weight</th>\n",
       "      <th>Shucked weight</th>\n",
       "      <th>Viscera weight</th>\n",
       "      <th>Shell weight</th>\n",
       "      <th>Rings</th>\n",
       "    </tr>\n",
       "  </thead>\n",
       "  <tbody>\n",
       "  </tbody>\n",
       "</table>\n",
       "</div>"
      ],
      "text/plain": [
       "Empty DataFrame\n",
       "Columns: [Sex, Length, Diameter, Height, Whole weight, Shucked weight, Viscera weight, Shell weight, Rings]\n",
       "Index: []"
      ]
     },
     "execution_count": 9,
     "metadata": {},
     "output_type": "execute_result"
    }
   ],
   "source": [
    "df.loc[df['Rings']== \" \"]"
   ]
  },
  {
   "cell_type": "markdown",
   "id": "c38e883c",
   "metadata": {},
   "source": [
    "As we can see there are no missing values or any spaces are available in target variable."
   ]
  },
  {
   "cell_type": "markdown",
   "id": "59946117",
   "metadata": {},
   "source": [
    "### As mentioned in the problem statement, need to add +1.5 on each value of target variable convert it into regression problem:"
   ]
  },
  {
   "cell_type": "code",
   "execution_count": 10,
   "id": "02df90ef",
   "metadata": {},
   "outputs": [
    {
     "data": {
      "text/plain": [
       "[16.5,\n",
       " 8.5,\n",
       " 10.5,\n",
       " 11.5,\n",
       " 8.5,\n",
       " 9.5,\n",
       " 21.5,\n",
       " 17.5,\n",
       " 10.5,\n",
       " 20.5,\n",
       " 15.5,\n",
       " 11.5,\n",
       " 12.5,\n",
       " 11.5,\n",
       " 11.5,\n",
       " 13.5,\n",
       " 8.5,\n",
       " 11.5,\n",
       " 8.5,\n",
       " 10.5,\n",
       " 12.5,\n",
       " 11.5,\n",
       " 13.5,\n",
       " 10.5,\n",
       " 11.5,\n",
       " 12.5,\n",
       " 12.5,\n",
       " 13.5,\n",
       " 16.5,\n",
       " 12.5,\n",
       " 11.5,\n",
       " 16.5,\n",
       " 19.5,\n",
       " 20.5,\n",
       " 14.5,\n",
       " 9.5,\n",
       " 17.5,\n",
       " 9.5,\n",
       " 12.5,\n",
       " 10.5,\n",
       " 10.5,\n",
       " 15.5,\n",
       " 6.5,\n",
       " 6.5,\n",
       " 5.5,\n",
       " 8.5,\n",
       " 10.5,\n",
       " 8.5,\n",
       " 7.5,\n",
       " 10.5,\n",
       " 9.5,\n",
       " 8.5,\n",
       " 11.5,\n",
       " 11.5,\n",
       " 8.5,\n",
       " 9.5,\n",
       " 9.5,\n",
       " 9.5,\n",
       " 5.5,\n",
       " 8.5,\n",
       " 8.5,\n",
       " 10.5,\n",
       " 11.5,\n",
       " 8.5,\n",
       " 9.5,\n",
       " 9.5,\n",
       " 13.5,\n",
       " 14.5,\n",
       " 11.5,\n",
       " 7.5,\n",
       " 14.5,\n",
       " 9.5,\n",
       " 21.5,\n",
       " 12.5,\n",
       " 14.5,\n",
       " 16.5,\n",
       " 10.5,\n",
       " 11.5,\n",
       " 12.5,\n",
       " 15.5,\n",
       " 10.5,\n",
       " 13.5,\n",
       " 17.5,\n",
       " 22.5,\n",
       " 15.5,\n",
       " 13.5,\n",
       " 14.5,\n",
       " 11.5,\n",
       " 10.5,\n",
       " 13.5,\n",
       " 16.5,\n",
       " 13.5,\n",
       " 14.5,\n",
       " 11.5,\n",
       " 16.5,\n",
       " 15.5,\n",
       " 10.5,\n",
       " 9.5,\n",
       " 8.5,\n",
       " 11.5,\n",
       " 8.5,\n",
       " 16.5,\n",
       " 16.5,\n",
       " 11.5,\n",
       " 13.5,\n",
       " 13.5,\n",
       " 12.5,\n",
       " 11.5,\n",
       " 10.5,\n",
       " 10.5,\n",
       " 10.5,\n",
       " 10.5,\n",
       " 10.5,\n",
       " 10.5,\n",
       " 12.5,\n",
       " 12.5,\n",
       " 12.5,\n",
       " 11.5,\n",
       " 10.5,\n",
       " 9.5,\n",
       " 10.5,\n",
       " 8.5,\n",
       " 15.5,\n",
       " 7.5,\n",
       " 7.5,\n",
       " 6.5,\n",
       " 7.5,\n",
       " 9.5,\n",
       " 20.5,\n",
       " 19.5,\n",
       " 18.5,\n",
       " 10.5,\n",
       " 8.5,\n",
       " 8.5,\n",
       " 8.5,\n",
       " 9.5,\n",
       " 8.5,\n",
       " 10.5,\n",
       " 10.5,\n",
       " 10.5,\n",
       " 11.5,\n",
       " 11.5,\n",
       " 17.5,\n",
       " 12.5,\n",
       " 11.5,\n",
       " 11.5,\n",
       " 11.5,\n",
       " 10.5,\n",
       " 6.5,\n",
       " 5.5,\n",
       " 16.5,\n",
       " 10.5,\n",
       " 11.5,\n",
       " 11.5,\n",
       " 13.5,\n",
       " 11.5,\n",
       " 14.5,\n",
       " 17.5,\n",
       " 14.5,\n",
       " 14.5,\n",
       " 14.5,\n",
       " 14.5,\n",
       " 13.5,\n",
       " 19.5,\n",
       " 17.5,\n",
       " 15.5,\n",
       " 21.5,\n",
       " 21.5,\n",
       " 15.5,\n",
       " 13.5,\n",
       " 15.5,\n",
       " 8.5,\n",
       " 9.5,\n",
       " 9.5,\n",
       " 6.5,\n",
       " 8.5,\n",
       " 6.5,\n",
       " 9.5,\n",
       " 5.5,\n",
       " 12.5,\n",
       " 15.5,\n",
       " 22.5,\n",
       " 11.5,\n",
       " 11.5,\n",
       " 13.5,\n",
       " 14.5,\n",
       " 13.5,\n",
       " 11.5,\n",
       " 12.5,\n",
       " 10.5,\n",
       " 14.5,\n",
       " 13.5,\n",
       " 15.5,\n",
       " 9.5,\n",
       " 11.5,\n",
       " 13.5,\n",
       " 12.5,\n",
       " 17.5,\n",
       " 16.5,\n",
       " 11.5,\n",
       " 10.5,\n",
       " 14.5,\n",
       " 13.5,\n",
       " 14.5,\n",
       " 9.5,\n",
       " 10.5,\n",
       " 10.5,\n",
       " 9.5,\n",
       " 14.5,\n",
       " 8.5,\n",
       " 11.5,\n",
       " 8.5,\n",
       " 13.5,\n",
       " 10.5,\n",
       " 15.5,\n",
       " 11.5,\n",
       " 9.5,\n",
       " 8.5,\n",
       " 11.5,\n",
       " 9.5,\n",
       " 10.5,\n",
       " 12.5,\n",
       " 10.5,\n",
       " 12.5,\n",
       " 11.5,\n",
       " 10.5,\n",
       " 8.5,\n",
       " 8.5,\n",
       " 12.5,\n",
       " 16.5,\n",
       " 14.5,\n",
       " 15.5,\n",
       " 23.5,\n",
       " 8.5,\n",
       " 13.5,\n",
       " 10.5,\n",
       " 2.5,\n",
       " 4.5,\n",
       " 4.5,\n",
       " 6.5,\n",
       " 18.5,\n",
       " 6.5,\n",
       " 6.5,\n",
       " 9.5,\n",
       " 9.5,\n",
       " 11.5,\n",
       " 14.5,\n",
       " 10.5,\n",
       " 8.5,\n",
       " 8.5,\n",
       " 8.5,\n",
       " 14.5,\n",
       " 13.5,\n",
       " 16.5,\n",
       " 16.5,\n",
       " 16.5,\n",
       " 20.5,\n",
       " 11.5,\n",
       " 16.5,\n",
       " 14.5,\n",
       " 12.5,\n",
       " 13.5,\n",
       " 12.5,\n",
       " 5.5,\n",
       " 7.5,\n",
       " 12.5,\n",
       " 15.5,\n",
       " 9.5,\n",
       " 10.5,\n",
       " 14.5,\n",
       " 23.5,\n",
       " 17.5,\n",
       " 15.5,\n",
       " 16.5,\n",
       " 14.5,\n",
       " 23.5,\n",
       " 13.5,\n",
       " 19.5,\n",
       " 21.5,\n",
       " 12.5,\n",
       " 16.5,\n",
       " 8.5,\n",
       " 10.5,\n",
       " 15.5,\n",
       " 15.5,\n",
       " 11.5,\n",
       " 11.5,\n",
       " 18.5,\n",
       " 10.5,\n",
       " 11.5,\n",
       " 18.5,\n",
       " 13.5,\n",
       " 16.5,\n",
       " 20.5,\n",
       " 27.5,\n",
       " 7.5,\n",
       " 7.5,\n",
       " 5.5,\n",
       " 12.5,\n",
       " 10.5,\n",
       " 10.5,\n",
       " 14.5,\n",
       " 9.5,\n",
       " 7.5,\n",
       " 11.5,\n",
       " 5.5,\n",
       " 4.5,\n",
       " 14.5,\n",
       " 15.5,\n",
       " 11.5,\n",
       " 22.5,\n",
       " 15.5,\n",
       " 20.5,\n",
       " 24.5,\n",
       " 24.5,\n",
       " 9.5,\n",
       " 15.5,\n",
       " 11.5,\n",
       " 19.5,\n",
       " 7.5,\n",
       " 6.5,\n",
       " 5.5,\n",
       " 12.5,\n",
       " 6.5,\n",
       " 8.5,\n",
       " 8.5,\n",
       " 8.5,\n",
       " 13.5,\n",
       " 9.5,\n",
       " 9.5,\n",
       " 13.5,\n",
       " 9.5,\n",
       " 6.5,\n",
       " 6.5,\n",
       " 17.5,\n",
       " 12.5,\n",
       " 15.5,\n",
       " 17.5,\n",
       " 14.5,\n",
       " 16.5,\n",
       " 15.5,\n",
       " 15.5,\n",
       " 13.5,\n",
       " 13.5,\n",
       " 9.5,\n",
       " 14.5,\n",
       " 10.5,\n",
       " 7.5,\n",
       " 9.5,\n",
       " 15.5,\n",
       " 9.5,\n",
       " 23.5,\n",
       " 13.5,\n",
       " 10.5,\n",
       " 17.5,\n",
       " 21.5,\n",
       " 14.5,\n",
       " 19.5,\n",
       " 18.5,\n",
       " 17.5,\n",
       " 19.5,\n",
       " 13.5,\n",
       " 21.5,\n",
       " 17.5,\n",
       " 13.5,\n",
       " 20.5,\n",
       " 12.5,\n",
       " 11.5,\n",
       " 13.5,\n",
       " 18.5,\n",
       " 17.5,\n",
       " 17.5,\n",
       " 20.5,\n",
       " 15.5,\n",
       " 14.5,\n",
       " 21.5,\n",
       " 12.5,\n",
       " 11.5,\n",
       " 16.5,\n",
       " 13.5,\n",
       " 16.5,\n",
       " 11.5,\n",
       " 11.5,\n",
       " 13.5,\n",
       " 11.5,\n",
       " 10.5,\n",
       " 13.5,\n",
       " 11.5,\n",
       " 15.5,\n",
       " 10.5,\n",
       " 11.5,\n",
       " 11.5,\n",
       " 11.5,\n",
       " 10.5,\n",
       " 7.5,\n",
       " 12.5,\n",
       " 11.5,\n",
       " 9.5,\n",
       " 13.5,\n",
       " 12.5,\n",
       " 10.5,\n",
       " 10.5,\n",
       " 8.5,\n",
       " 11.5,\n",
       " 8.5,\n",
       " 13.5,\n",
       " 9.5,\n",
       " 17.5,\n",
       " 12.5,\n",
       " 9.5,\n",
       " 16.5,\n",
       " 15.5,\n",
       " 12.5,\n",
       " 13.5,\n",
       " 15.5,\n",
       " 16.5,\n",
       " 21.5,\n",
       " 21.5,\n",
       " 17.5,\n",
       " 14.5,\n",
       " 15.5,\n",
       " 12.5,\n",
       " 14.5,\n",
       " 9.5,\n",
       " 7.5,\n",
       " 14.5,\n",
       " 19.5,\n",
       " 20.5,\n",
       " 22.5,\n",
       " 19.5,\n",
       " 19.5,\n",
       " 21.5,\n",
       " 19.5,\n",
       " 23.5,\n",
       " 14.5,\n",
       " 12.5,\n",
       " 8.5,\n",
       " 15.5,\n",
       " 10.5,\n",
       " 14.5,\n",
       " 11.5,\n",
       " 9.5,\n",
       " 20.5,\n",
       " 11.5,\n",
       " 11.5,\n",
       " 10.5,\n",
       " 14.5,\n",
       " 17.5,\n",
       " 13.5,\n",
       " 19.5,\n",
       " 17.5,\n",
       " 17.5,\n",
       " 18.5,\n",
       " 12.5,\n",
       " 15.5,\n",
       " 12.5,\n",
       " 16.5,\n",
       " 10.5,\n",
       " 11.5,\n",
       " 12.5,\n",
       " 12.5,\n",
       " 13.5,\n",
       " 7.5,\n",
       " 6.5,\n",
       " 7.5,\n",
       " 6.5,\n",
       " 13.5,\n",
       " 14.5,\n",
       " 18.5,\n",
       " 22.5,\n",
       " 10.5,\n",
       " 11.5,\n",
       " 10.5,\n",
       " 12.5,\n",
       " 11.5,\n",
       " 18.5,\n",
       " 10.5,\n",
       " 18.5,\n",
       " 22.5,\n",
       " 17.5,\n",
       " 30.5,\n",
       " 18.5,\n",
       " 16.5,\n",
       " 20.5,\n",
       " 13.5,\n",
       " 14.5,\n",
       " 12.5,\n",
       " 16.5,\n",
       " 12.5,\n",
       " 15.5,\n",
       " 15.5,\n",
       " 14.5,\n",
       " 12.5,\n",
       " 16.5,\n",
       " 18.5,\n",
       " 16.5,\n",
       " 13.5,\n",
       " 20.5,\n",
       " 12.5,\n",
       " 11.5,\n",
       " 13.5,\n",
       " 24.5,\n",
       " 16.5,\n",
       " 14.5,\n",
       " 18.5,\n",
       " 16.5,\n",
       " 13.5,\n",
       " 16.5,\n",
       " 12.5,\n",
       " 17.5,\n",
       " 11.5,\n",
       " 11.5,\n",
       " 11.5,\n",
       " 7.5,\n",
       " 6.5,\n",
       " 7.5,\n",
       " 10.5,\n",
       " 6.5,\n",
       " 5.5,\n",
       " 7.5,\n",
       " 4.5,\n",
       " 6.5,\n",
       " 10.5,\n",
       " 6.5,\n",
       " 5.5,\n",
       " 5.5,\n",
       " 4.5,\n",
       " 15.5,\n",
       " 13.5,\n",
       " 10.5,\n",
       " 21.5,\n",
       " 14.5,\n",
       " 13.5,\n",
       " 10.5,\n",
       " 11.5,\n",
       " 12.5,\n",
       " 12.5,\n",
       " 8.5,\n",
       " 6.5,\n",
       " 11.5,\n",
       " 16.5,\n",
       " 12.5,\n",
       " 16.5,\n",
       " 9.5,\n",
       " 11.5,\n",
       " 12.5,\n",
       " 9.5,\n",
       " 8.5,\n",
       " 13.5,\n",
       " 12.5,\n",
       " 18.5,\n",
       " 14.5,\n",
       " 13.5,\n",
       " 14.5,\n",
       " 10.5,\n",
       " 11.5,\n",
       " 15.5,\n",
       " 13.5,\n",
       " 14.5,\n",
       " 14.5,\n",
       " 9.5,\n",
       " 14.5,\n",
       " 12.5,\n",
       " 12.5,\n",
       " 15.5,\n",
       " 11.5,\n",
       " 13.5,\n",
       " 13.5,\n",
       " 8.5,\n",
       " 12.5,\n",
       " 17.5,\n",
       " 15.5,\n",
       " 21.5,\n",
       " 18.5,\n",
       " 11.5,\n",
       " 12.5,\n",
       " 11.5,\n",
       " 11.5,\n",
       " 12.5,\n",
       " 18.5,\n",
       " 12.5,\n",
       " 15.5,\n",
       " 20.5,\n",
       " 14.5,\n",
       " 12.5,\n",
       " 12.5,\n",
       " 11.5,\n",
       " 14.5,\n",
       " 15.5,\n",
       " 14.5,\n",
       " 14.5,\n",
       " 10.5,\n",
       " 19.5,\n",
       " 20.5,\n",
       " 13.5,\n",
       " 14.5,\n",
       " 10.5,\n",
       " 14.5,\n",
       " 13.5,\n",
       " 17.5,\n",
       " 18.5,\n",
       " 11.5,\n",
       " 14.5,\n",
       " 12.5,\n",
       " 13.5,\n",
       " 14.5,\n",
       " 10.5,\n",
       " 11.5,\n",
       " 11.5,\n",
       " 13.5,\n",
       " 13.5,\n",
       " 5.5,\n",
       " 10.5,\n",
       " 19.5,\n",
       " 16.5,\n",
       " 14.5,\n",
       " 13.5,\n",
       " 8.5,\n",
       " 10.5,\n",
       " 8.5,\n",
       " 11.5,\n",
       " 19.5,\n",
       " 13.5,\n",
       " 18.5,\n",
       " 16.5,\n",
       " 13.5,\n",
       " 11.5,\n",
       " 9.5,\n",
       " 22.5,\n",
       " 11.5,\n",
       " 10.5,\n",
       " 8.5,\n",
       " 11.5,\n",
       " 10.5,\n",
       " 10.5,\n",
       " 9.5,\n",
       " 8.5,\n",
       " 7.5,\n",
       " 15.5,\n",
       " 14.5,\n",
       " 8.5,\n",
       " 14.5,\n",
       " 20.5,\n",
       " 8.5,\n",
       " 10.5,\n",
       " 12.5,\n",
       " 7.5,\n",
       " 10.5,\n",
       " 12.5,\n",
       " 10.5,\n",
       " 6.5,\n",
       " 7.5,\n",
       " 12.5,\n",
       " 8.5,\n",
       " 11.5,\n",
       " 8.5,\n",
       " 18.5,\n",
       " 17.5,\n",
       " 19.5,\n",
       " 12.5,\n",
       " 19.5,\n",
       " 12.5,\n",
       " 11.5,\n",
       " 13.5,\n",
       " 20.5,\n",
       " 11.5,\n",
       " 12.5,\n",
       " 16.5,\n",
       " 14.5,\n",
       " 14.5,\n",
       " 15.5,\n",
       " 18.5,\n",
       " 20.5,\n",
       " 22.5,\n",
       " 24.5,\n",
       " 23.5,\n",
       " 13.5,\n",
       " 12.5,\n",
       " 24.5,\n",
       " 9.5,\n",
       " 8.5,\n",
       " 11.5,\n",
       " 8.5,\n",
       " 17.5,\n",
       " 11.5,\n",
       " 16.5,\n",
       " 14.5,\n",
       " 17.5,\n",
       " 12.5,\n",
       " 12.5,\n",
       " 11.5,\n",
       " 6.5,\n",
       " 12.5,\n",
       " 10.5,\n",
       " 5.5,\n",
       " 8.5,\n",
       " 5.5,\n",
       " 6.5,\n",
       " 14.5,\n",
       " 17.5,\n",
       " 13.5,\n",
       " 15.5,\n",
       " 10.5,\n",
       " 13.5,\n",
       " 10.5,\n",
       " 11.5,\n",
       " 12.5,\n",
       " 11.5,\n",
       " 11.5,\n",
       " 8.5,\n",
       " 8.5,\n",
       " 12.5,\n",
       " 8.5,\n",
       " 9.5,\n",
       " 10.5,\n",
       " 8.5,\n",
       " 9.5,\n",
       " 7.5,\n",
       " 5.5,\n",
       " 3.5,\n",
       " 4.5,\n",
       " 14.5,\n",
       " 16.5,\n",
       " 16.5,\n",
       " 12.5,\n",
       " 18.5,\n",
       " 11.5,\n",
       " 13.5,\n",
       " 14.5,\n",
       " 16.5,\n",
       " 12.5,\n",
       " 14.5,\n",
       " 16.5,\n",
       " 14.5,\n",
       " 19.5,\n",
       " 11.5,\n",
       " 13.5,\n",
       " 13.5,\n",
       " 15.5,\n",
       " 11.5,\n",
       " 15.5,\n",
       " 9.5,\n",
       " 15.5,\n",
       " 18.5,\n",
       " 21.5,\n",
       " 18.5,\n",
       " 18.5,\n",
       " 10.5,\n",
       " 15.5,\n",
       " 16.5,\n",
       " 14.5,\n",
       " 11.5,\n",
       " 14.5,\n",
       " 14.5,\n",
       " 21.5,\n",
       " 14.5,\n",
       " 21.5,\n",
       " 16.5,\n",
       " 14.5,\n",
       " 16.5,\n",
       " 16.5,\n",
       " 17.5,\n",
       " 18.5,\n",
       " 15.5,\n",
       " 15.5,\n",
       " 12.5,\n",
       " 14.5,\n",
       " 10.5,\n",
       " 12.5,\n",
       " 18.5,\n",
       " 12.5,\n",
       " 9.5,\n",
       " 9.5,\n",
       " 10.5,\n",
       " 11.5,\n",
       " 12.5,\n",
       " 16.5,\n",
       " 14.5,\n",
       " 16.5,\n",
       " 16.5,\n",
       " 14.5,\n",
       " 13.5,\n",
       " 11.5,\n",
       " 7.5,\n",
       " 6.5,\n",
       " 16.5,\n",
       " 10.5,\n",
       " 13.5,\n",
       " 10.5,\n",
       " 13.5,\n",
       " 11.5,\n",
       " 11.5,\n",
       " 10.5,\n",
       " 13.5,\n",
       " 13.5,\n",
       " 16.5,\n",
       " 12.5,\n",
       " 10.5,\n",
       " 12.5,\n",
       " 12.5,\n",
       " 11.5,\n",
       " 11.5,\n",
       " 10.5,\n",
       " 8.5,\n",
       " 11.5,\n",
       " 8.5,\n",
       " 7.5,\n",
       " 16.5,\n",
       " 11.5,\n",
       " 13.5,\n",
       " 13.5,\n",
       " 22.5,\n",
       " 7.5,\n",
       " 6.5,\n",
       " 8.5,\n",
       " 8.5,\n",
       " 7.5,\n",
       " 7.5,\n",
       " 7.5,\n",
       " 8.5,\n",
       " 8.5,\n",
       " 7.5,\n",
       " 8.5,\n",
       " 7.5,\n",
       " 8.5,\n",
       " 8.5,\n",
       " 7.5,\n",
       " 7.5,\n",
       " 7.5,\n",
       " 8.5,\n",
       " 7.5,\n",
       " 7.5,\n",
       " 10.5,\n",
       " 8.5,\n",
       " 8.5,\n",
       " 9.5,\n",
       " 9.5,\n",
       " 10.5,\n",
       " 9.5,\n",
       " 10.5,\n",
       " 9.5,\n",
       " 10.5,\n",
       " 10.5,\n",
       " 9.5,\n",
       " 9.5,\n",
       " 10.5,\n",
       " 12.5,\n",
       " 11.5,\n",
       " 9.5,\n",
       " 11.5,\n",
       " 11.5,\n",
       " 10.5,\n",
       " 11.5,\n",
       " 10.5,\n",
       " 11.5,\n",
       " 10.5,\n",
       " 10.5,\n",
       " 13.5,\n",
       " 11.5,\n",
       " 9.5,\n",
       " 7.5,\n",
       " 13.5,\n",
       " 12.5,\n",
       " 11.5,\n",
       " 12.5,\n",
       " 11.5,\n",
       " 10.5,\n",
       " 13.5,\n",
       " 11.5,\n",
       " 10.5,\n",
       " 13.5,\n",
       " 12.5,\n",
       " 10.5,\n",
       " 12.5,\n",
       " 12.5,\n",
       " 15.5,\n",
       " 10.5,\n",
       " 11.5,\n",
       " 10.5,\n",
       " 9.5,\n",
       " 12.5,\n",
       " 10.5,\n",
       " 18.5,\n",
       " 16.5,\n",
       " 11.5,\n",
       " 11.5,\n",
       " 13.5,\n",
       " 10.5,\n",
       " 12.5,\n",
       " 12.5,\n",
       " 12.5,\n",
       " 18.5,\n",
       " 7.5,\n",
       " 6.5,\n",
       " 4.5,\n",
       " 7.5,\n",
       " 5.5,\n",
       " 7.5,\n",
       " 5.5,\n",
       " 6.5,\n",
       " 5.5,\n",
       " 7.5,\n",
       " 6.5,\n",
       " 7.5,\n",
       " 9.5,\n",
       " 6.5,\n",
       " 7.5,\n",
       " 7.5,\n",
       " 8.5,\n",
       " 8.5,\n",
       " 6.5,\n",
       " 8.5,\n",
       " 8.5,\n",
       " 7.5,\n",
       " 8.5,\n",
       " 7.5,\n",
       " 7.5,\n",
       " 8.5,\n",
       " 8.5,\n",
       " 7.5,\n",
       " 7.5,\n",
       " 6.5,\n",
       " 7.5,\n",
       " 7.5,\n",
       " 7.5,\n",
       " 8.5,\n",
       " 8.5,\n",
       " 9.5,\n",
       " 7.5,\n",
       " 7.5,\n",
       " 8.5,\n",
       " 7.5,\n",
       " 8.5,\n",
       " 8.5,\n",
       " 9.5,\n",
       " 8.5,\n",
       " 8.5,\n",
       " 8.5,\n",
       " 7.5,\n",
       " 8.5,\n",
       " 8.5,\n",
       " 8.5,\n",
       " 8.5,\n",
       " 8.5,\n",
       " 7.5,\n",
       " 9.5,\n",
       " 9.5,\n",
       " 10.5,\n",
       " 7.5,\n",
       " 7.5,\n",
       " 7.5,\n",
       " 9.5,\n",
       " 8.5,\n",
       " 8.5,\n",
       " 9.5,\n",
       " 9.5,\n",
       " 8.5,\n",
       " 7.5,\n",
       " 9.5,\n",
       " 8.5,\n",
       " 8.5,\n",
       " 10.5,\n",
       " 9.5,\n",
       " 10.5,\n",
       " 9.5,\n",
       " 9.5,\n",
       " 8.5,\n",
       " 8.5,\n",
       " 9.5,\n",
       " 9.5,\n",
       " 9.5,\n",
       " 8.5,\n",
       " 9.5,\n",
       " 12.5,\n",
       " 9.5,\n",
       " 9.5,\n",
       " 8.5,\n",
       " 9.5,\n",
       " 9.5,\n",
       " 9.5,\n",
       " 10.5,\n",
       " 10.5,\n",
       " 10.5,\n",
       " 9.5,\n",
       " 11.5,\n",
       " 11.5,\n",
       " 9.5,\n",
       " 9.5,\n",
       " 8.5,\n",
       " 10.5,\n",
       " 10.5,\n",
       " 8.5,\n",
       " 9.5,\n",
       " 11.5,\n",
       " 9.5,\n",
       " 10.5,\n",
       " 12.5,\n",
       " 9.5,\n",
       " 9.5,\n",
       " 12.5,\n",
       " ...]"
      ]
     },
     "execution_count": 10,
     "metadata": {},
     "output_type": "execute_result"
    }
   ],
   "source": [
    "#adding 1.5 to each value of rings column\n",
    "Rings = [] #empty list\n",
    "\n",
    "for i in df[\"Rings\"]:\n",
    "    a=i+1.5\n",
    "    Rings.append(a)\n",
    "    \n",
    "Rings"
   ]
  },
  {
   "cell_type": "code",
   "execution_count": 11,
   "id": "13c82cf1",
   "metadata": {},
   "outputs": [
    {
     "data": {
      "text/html": [
       "<div>\n",
       "<style scoped>\n",
       "    .dataframe tbody tr th:only-of-type {\n",
       "        vertical-align: middle;\n",
       "    }\n",
       "\n",
       "    .dataframe tbody tr th {\n",
       "        vertical-align: top;\n",
       "    }\n",
       "\n",
       "    .dataframe thead th {\n",
       "        text-align: right;\n",
       "    }\n",
       "</style>\n",
       "<table border=\"1\" class=\"dataframe\">\n",
       "  <thead>\n",
       "    <tr style=\"text-align: right;\">\n",
       "      <th></th>\n",
       "      <th>Sex</th>\n",
       "      <th>Length</th>\n",
       "      <th>Diameter</th>\n",
       "      <th>Height</th>\n",
       "      <th>Whole weight</th>\n",
       "      <th>Shucked weight</th>\n",
       "      <th>Viscera weight</th>\n",
       "      <th>Shell weight</th>\n",
       "      <th>Rings</th>\n",
       "    </tr>\n",
       "  </thead>\n",
       "  <tbody>\n",
       "    <tr>\n",
       "      <th>0</th>\n",
       "      <td>M</td>\n",
       "      <td>0.455</td>\n",
       "      <td>0.365</td>\n",
       "      <td>0.095</td>\n",
       "      <td>0.5140</td>\n",
       "      <td>0.2245</td>\n",
       "      <td>0.1010</td>\n",
       "      <td>0.1500</td>\n",
       "      <td>16.5</td>\n",
       "    </tr>\n",
       "    <tr>\n",
       "      <th>1</th>\n",
       "      <td>M</td>\n",
       "      <td>0.350</td>\n",
       "      <td>0.265</td>\n",
       "      <td>0.090</td>\n",
       "      <td>0.2255</td>\n",
       "      <td>0.0995</td>\n",
       "      <td>0.0485</td>\n",
       "      <td>0.0700</td>\n",
       "      <td>8.5</td>\n",
       "    </tr>\n",
       "    <tr>\n",
       "      <th>2</th>\n",
       "      <td>F</td>\n",
       "      <td>0.530</td>\n",
       "      <td>0.420</td>\n",
       "      <td>0.135</td>\n",
       "      <td>0.6770</td>\n",
       "      <td>0.2565</td>\n",
       "      <td>0.1415</td>\n",
       "      <td>0.2100</td>\n",
       "      <td>10.5</td>\n",
       "    </tr>\n",
       "    <tr>\n",
       "      <th>3</th>\n",
       "      <td>M</td>\n",
       "      <td>0.440</td>\n",
       "      <td>0.365</td>\n",
       "      <td>0.125</td>\n",
       "      <td>0.5160</td>\n",
       "      <td>0.2155</td>\n",
       "      <td>0.1140</td>\n",
       "      <td>0.1550</td>\n",
       "      <td>11.5</td>\n",
       "    </tr>\n",
       "    <tr>\n",
       "      <th>4</th>\n",
       "      <td>I</td>\n",
       "      <td>0.330</td>\n",
       "      <td>0.255</td>\n",
       "      <td>0.080</td>\n",
       "      <td>0.2050</td>\n",
       "      <td>0.0895</td>\n",
       "      <td>0.0395</td>\n",
       "      <td>0.0550</td>\n",
       "      <td>8.5</td>\n",
       "    </tr>\n",
       "    <tr>\n",
       "      <th>...</th>\n",
       "      <td>...</td>\n",
       "      <td>...</td>\n",
       "      <td>...</td>\n",
       "      <td>...</td>\n",
       "      <td>...</td>\n",
       "      <td>...</td>\n",
       "      <td>...</td>\n",
       "      <td>...</td>\n",
       "      <td>...</td>\n",
       "    </tr>\n",
       "    <tr>\n",
       "      <th>4172</th>\n",
       "      <td>F</td>\n",
       "      <td>0.565</td>\n",
       "      <td>0.450</td>\n",
       "      <td>0.165</td>\n",
       "      <td>0.8870</td>\n",
       "      <td>0.3700</td>\n",
       "      <td>0.2390</td>\n",
       "      <td>0.2490</td>\n",
       "      <td>12.5</td>\n",
       "    </tr>\n",
       "    <tr>\n",
       "      <th>4173</th>\n",
       "      <td>M</td>\n",
       "      <td>0.590</td>\n",
       "      <td>0.440</td>\n",
       "      <td>0.135</td>\n",
       "      <td>0.9660</td>\n",
       "      <td>0.4390</td>\n",
       "      <td>0.2145</td>\n",
       "      <td>0.2605</td>\n",
       "      <td>11.5</td>\n",
       "    </tr>\n",
       "    <tr>\n",
       "      <th>4174</th>\n",
       "      <td>M</td>\n",
       "      <td>0.600</td>\n",
       "      <td>0.475</td>\n",
       "      <td>0.205</td>\n",
       "      <td>1.1760</td>\n",
       "      <td>0.5255</td>\n",
       "      <td>0.2875</td>\n",
       "      <td>0.3080</td>\n",
       "      <td>10.5</td>\n",
       "    </tr>\n",
       "    <tr>\n",
       "      <th>4175</th>\n",
       "      <td>F</td>\n",
       "      <td>0.625</td>\n",
       "      <td>0.485</td>\n",
       "      <td>0.150</td>\n",
       "      <td>1.0945</td>\n",
       "      <td>0.5310</td>\n",
       "      <td>0.2610</td>\n",
       "      <td>0.2960</td>\n",
       "      <td>11.5</td>\n",
       "    </tr>\n",
       "    <tr>\n",
       "      <th>4176</th>\n",
       "      <td>M</td>\n",
       "      <td>0.710</td>\n",
       "      <td>0.555</td>\n",
       "      <td>0.195</td>\n",
       "      <td>1.9485</td>\n",
       "      <td>0.9455</td>\n",
       "      <td>0.3765</td>\n",
       "      <td>0.4950</td>\n",
       "      <td>13.5</td>\n",
       "    </tr>\n",
       "  </tbody>\n",
       "</table>\n",
       "<p>4177 rows × 9 columns</p>\n",
       "</div>"
      ],
      "text/plain": [
       "     Sex  Length  Diameter  Height  Whole weight  Shucked weight  \\\n",
       "0      M   0.455     0.365   0.095        0.5140          0.2245   \n",
       "1      M   0.350     0.265   0.090        0.2255          0.0995   \n",
       "2      F   0.530     0.420   0.135        0.6770          0.2565   \n",
       "3      M   0.440     0.365   0.125        0.5160          0.2155   \n",
       "4      I   0.330     0.255   0.080        0.2050          0.0895   \n",
       "...   ..     ...       ...     ...           ...             ...   \n",
       "4172   F   0.565     0.450   0.165        0.8870          0.3700   \n",
       "4173   M   0.590     0.440   0.135        0.9660          0.4390   \n",
       "4174   M   0.600     0.475   0.205        1.1760          0.5255   \n",
       "4175   F   0.625     0.485   0.150        1.0945          0.5310   \n",
       "4176   M   0.710     0.555   0.195        1.9485          0.9455   \n",
       "\n",
       "      Viscera weight  Shell weight  Rings  \n",
       "0             0.1010        0.1500   16.5  \n",
       "1             0.0485        0.0700    8.5  \n",
       "2             0.1415        0.2100   10.5  \n",
       "3             0.1140        0.1550   11.5  \n",
       "4             0.0395        0.0550    8.5  \n",
       "...              ...           ...    ...  \n",
       "4172          0.2390        0.2490   12.5  \n",
       "4173          0.2145        0.2605   11.5  \n",
       "4174          0.2875        0.3080   10.5  \n",
       "4175          0.2610        0.2960   11.5  \n",
       "4176          0.3765        0.4950   13.5  \n",
       "\n",
       "[4177 rows x 9 columns]"
      ]
     },
     "execution_count": 11,
     "metadata": {},
     "output_type": "execute_result"
    }
   ],
   "source": [
    "#after adding 1.5 in target variable.\n",
    "df[\"Rings\"]= Rings\n",
    "df"
   ]
  },
  {
   "cell_type": "markdown",
   "id": "5bece38b",
   "metadata": {},
   "source": [
    "## EDA (Exploratory Data Analysis)\n"
   ]
  },
  {
   "cell_type": "markdown",
   "id": "4304b47a",
   "metadata": {},
   "source": [
    "### Visualization (Uni Variate analysis)\n"
   ]
  },
  {
   "cell_type": "markdown",
   "id": "6ac34b8e",
   "metadata": {},
   "source": [
    "Uni variate analysis works with only one variable, hence it is called uni variate."
   ]
  },
  {
   "cell_type": "code",
   "execution_count": 12,
   "id": "a29efd41",
   "metadata": {},
   "outputs": [
    {
     "data": {
      "text/plain": [
       "<AxesSubplot:xlabel='Length', ylabel='Density'>"
      ]
     },
     "execution_count": 12,
     "metadata": {},
     "output_type": "execute_result"
    },
    {
     "data": {
      "image/png": "[encoded data removed]",
      "text/plain": [
       "<Figure size 432x288 with 1 Axes>"
      ]
     },
     "metadata": {
      "needs_background": "light"
     },
     "output_type": "display_data"
    }
   ],
   "source": [
    "sns.distplot(df[\"Length\"], color = 'g')     "
   ]
  },
  {
   "cell_type": "markdown",
   "id": "5e856640",
   "metadata": {},
   "source": [
    "As we can see length is almost normally distributed."
   ]
  },
  {
   "cell_type": "code",
   "execution_count": 13,
   "id": "43754c9b",
   "metadata": {},
   "outputs": [
    {
     "data": {
      "text/plain": [
       "<AxesSubplot:xlabel='Diameter', ylabel='Density'>"
      ]
     },
     "execution_count": 13,
     "metadata": {},
     "output_type": "execute_result"
    },
    {
     "data": {
      "image/png": "[encoded data removed]",
      "text/plain": [
       "<Figure size 432x288 with 1 Axes>"
      ]
     },
     "metadata": {
      "needs_background": "light"
     },
     "output_type": "display_data"
    }
   ],
   "source": [
    "sns.distplot(df[\"Diameter\"], color = 'g')"
   ]
  },
  {
   "cell_type": "markdown",
   "id": "420ef920",
   "metadata": {},
   "source": [
    "Small amount of skewness present in Diameter."
   ]
  },
  {
   "cell_type": "code",
   "execution_count": 14,
   "id": "84202840",
   "metadata": {},
   "outputs": [
    {
     "data": {
      "text/plain": [
       "<AxesSubplot:xlabel='Height', ylabel='Density'>"
      ]
     },
     "execution_count": 14,
     "metadata": {},
     "output_type": "execute_result"
    },
    {
     "data": {
      "image/png": "[encoded data removed]",
      "text/plain": [
       "<Figure size 432x288 with 1 Axes>"
      ]
     },
     "metadata": {
      "needs_background": "light"
     },
     "output_type": "display_data"
    }
   ],
   "source": [
    "sns.distplot(df[\"Height\"], color = 'g')"
   ]
  },
  {
   "cell_type": "markdown",
   "id": "14904b5f",
   "metadata": {},
   "source": [
    "Height contains soo much skewness."
   ]
  },
  {
   "cell_type": "code",
   "execution_count": 15,
   "id": "77c3e788",
   "metadata": {},
   "outputs": [
    {
     "data": {
      "text/plain": [
       "<AxesSubplot:xlabel='Whole weight', ylabel='Density'>"
      ]
     },
     "execution_count": 15,
     "metadata": {},
     "output_type": "execute_result"
    },
    {
     "data": {
      "image/png": "[encoded data removed]",
      "text/plain": [
       "<Figure size 432x288 with 1 Axes>"
      ]
     },
     "metadata": {
      "needs_background": "light"
     },
     "output_type": "display_data"
    }
   ],
   "source": [
    "sns.distplot(df[\"Whole weight\"], color = 'g')"
   ]
  },
  {
   "cell_type": "markdown",
   "id": "2334b737",
   "metadata": {},
   "source": [
    "Whole Weight variable is also skewed."
   ]
  },
  {
   "cell_type": "code",
   "execution_count": 16,
   "id": "39ed939e",
   "metadata": {},
   "outputs": [
    {
     "data": {
      "text/plain": [
       "<AxesSubplot:xlabel='Shucked weight', ylabel='Density'>"
      ]
     },
     "execution_count": 16,
     "metadata": {},
     "output_type": "execute_result"
    },
    {
     "data": {
      "image/png": "[encoded data removed]",
      "text/plain": [
       "<Figure size 432x288 with 1 Axes>"
      ]
     },
     "metadata": {
      "needs_background": "light"
     },
     "output_type": "display_data"
    }
   ],
   "source": [
    "sns.distplot(df[\"Shucked weight\"], color = 'g')"
   ]
  },
  {
   "cell_type": "markdown",
   "id": "7663605e",
   "metadata": {},
   "source": [
    "shucked weight also contains skewness."
   ]
  },
  {
   "cell_type": "code",
   "execution_count": 17,
   "id": "7076c52f",
   "metadata": {},
   "outputs": [
    {
     "data": {
      "text/plain": [
       "<AxesSubplot:xlabel='Viscera weight', ylabel='Density'>"
      ]
     },
     "execution_count": 17,
     "metadata": {},
     "output_type": "execute_result"
    },
    {
     "data": {
      "image/png": "[encoded data removed]",
      "text/plain": [
       "<Figure size 432x288 with 1 Axes>"
      ]
     },
     "metadata": {
      "needs_background": "light"
     },
     "output_type": "display_data"
    }
   ],
   "source": [
    "sns.distplot(df[\"Viscera weight\"], color = 'g')"
   ]
  },
  {
   "cell_type": "markdown",
   "id": "e6cf2471",
   "metadata": {},
   "source": [
    "Viscera weight has the skewness."
   ]
  },
  {
   "cell_type": "code",
   "execution_count": 18,
   "id": "683f579b",
   "metadata": {},
   "outputs": [
    {
     "data": {
      "text/plain": [
       "<AxesSubplot:xlabel='Shell weight', ylabel='Density'>"
      ]
     },
     "execution_count": 18,
     "metadata": {},
     "output_type": "execute_result"
    },
    {
     "data": {
      "image/png": "[encoded data removed]",
      "text/plain": [
       "<Figure size 432x288 with 1 Axes>"
      ]
     },
     "metadata": {
      "needs_background": "light"
     },
     "output_type": "display_data"
    }
   ],
   "source": [
    "sns.distplot(df[\"Shell weight\"], color = 'g')"
   ]
  },
  {
   "cell_type": "markdown",
   "id": "cad46539",
   "metadata": {},
   "source": [
    "Shell weight is also have the skewness."
   ]
  },
  {
   "cell_type": "code",
   "execution_count": 19,
   "id": "1ae492ef",
   "metadata": {},
   "outputs": [
    {
     "data": {
      "text/plain": [
       "<AxesSubplot:xlabel='Rings', ylabel='Density'>"
      ]
     },
     "execution_count": 19,
     "metadata": {},
     "output_type": "execute_result"
    },
    {
     "data": {
      "image/png": "[encoded data removed]",
      "text/plain": [
       "<Figure size 432x288 with 1 Axes>"
      ]
     },
     "metadata": {
      "needs_background": "light"
     },
     "output_type": "display_data"
    }
   ],
   "source": [
    "sns.distplot(df[\"Rings\"], color = 'g')"
   ]
  },
  {
   "cell_type": "markdown",
   "id": "fbbef15d",
   "metadata": {},
   "source": [
    "It is a target variable."
   ]
  },
  {
   "cell_type": "markdown",
   "id": "360b9e25",
   "metadata": {},
   "source": [
    "## Analysis through boxplot\n"
   ]
  },
  {
   "cell_type": "code",
   "execution_count": 20,
   "id": "6bd24a2d",
   "metadata": {},
   "outputs": [],
   "source": [
    "features = df[[\"Length\", \"Diameter\", \"Height\", \"Whole weight\", \"Shucked weight\", \"Viscera weight\", \"Shell weight\", \"Rings\"]]\n"
   ]
  },
  {
   "cell_type": "code",
   "execution_count": 21,
   "id": "55668bcd",
   "metadata": {},
   "outputs": [
    {
     "data": {
      "image/png": "[encoded data removed]",
      "text/plain": [
       "<Figure size 1800x1440 with 8 Axes>"
      ]
     },
     "metadata": {},
     "output_type": "display_data"
    }
   ],
   "source": [
    "#Relationship Visualizing\n",
    "\n",
    "plt.figure(figsize = (25,20), facecolor = 'white')\n",
    "plotnumber = 1\n",
    "\n",
    "for column in features:\n",
    "    if plotnumber <= 9: # as we see there are eight columns in the data\n",
    "        ax = plt.subplot(3,3,plotnumber)\n",
    "        sns.boxplot(features[column], color = 'c')\n",
    "        plt.xlabel(column,fontsize=20)\n",
    "        \n",
    "    plotnumber += 1\n",
    "plt.show()"
   ]
  },
  {
   "cell_type": "markdown",
   "id": "c2607311",
   "metadata": {},
   "source": [
    "Every column contains outliers(\"Length\", \"Diameter\", \"Height\", \"Whole weight\", \"Shucked weight\", \"Viscera weight\", \"Shell weight\")"
   ]
  },
  {
   "cell_type": "markdown",
   "id": "d1266af1",
   "metadata": {},
   "source": [
    "## Bi variate analysis"
   ]
  },
  {
   "cell_type": "markdown",
   "id": "ec7e819d",
   "metadata": {},
   "source": [
    "Bi variate analysis is works with two variables."
   ]
  },
  {
   "cell_type": "code",
   "execution_count": 22,
   "id": "df021e66",
   "metadata": {},
   "outputs": [
    {
     "data": {
      "image/png": "[encoded data removed]",
      "text/plain": [
       "<Figure size 2520x2520 with 9 Axes>"
      ]
     },
     "metadata": {},
     "output_type": "display_data"
    }
   ],
   "source": [
    "#Relationship Visualizing\n",
    "\n",
    "plt.figure(figsize = (35,35), facecolor = 'white')\n",
    "plotnumber = 1\n",
    "\n",
    "for column in df:\n",
    "    if plotnumber <= 15:\n",
    "        ax = plt.subplot(5,3,plotnumber)\n",
    "        plt.scatter(df[column],df['Rings'], color='g')\n",
    "        plt.xlabel(column,fontsize=26)\n",
    "        plt.ylabel('Rings', fontsize=26)\n",
    "    plotnumber += 1\n",
    "plt.tight_layout()\n"
   ]
  },
  {
   "cell_type": "markdown",
   "id": "a77bbdd4",
   "metadata": {},
   "source": [
    "There are some variables are having some amount of linear relationship with target variable and some are having non linear relationship with target variable.\n",
    "\n",
    "As we can see in the plot some outliers are also present in it."
   ]
  },
  {
   "cell_type": "markdown",
   "id": "bb5683e7",
   "metadata": {},
   "source": [
    "## Multi Variate analysis"
   ]
  },
  {
   "cell_type": "markdown",
   "id": "be70f2b3",
   "metadata": {},
   "source": [
    "Multi variate analysis find the relationship with all variables. Now we will visualize the data and check the coiefficient of multicollinearity"
   ]
  },
  {
   "cell_type": "code",
   "execution_count": 23,
   "id": "22ce9d0f",
   "metadata": {},
   "outputs": [
    {
     "data": {
      "image/png": "[encoded data removed]",
      "text/plain": [
       "<Figure size 1440x1080 with 2 Axes>"
      ]
     },
     "metadata": {
      "needs_background": "light"
     },
     "output_type": "display_data"
    }
   ],
   "source": [
    "df_cor = df.corr().abs()\n",
    "\n",
    "plt.figure(figsize = (20,15))\n",
    "sns.heatmap(df_cor, vmin=-1, vmax= 1, annot=True, square=True,\n",
    "          center=0, fmt='.1g', linewidths=.1)\n",
    "plt.tight_layout()"
   ]
  },
  {
   "cell_type": "markdown",
   "id": "a09900d7",
   "metadata": {},
   "source": [
    "As shown in plot 'Shucked weight' and 'Rings' correlation value is in less amount(40%). 'Shell weight' and 'Whole weight' are strongly correlated with 100%. 'Viscera weight' and 'Whole weight' are strongly correlated with 100%. 'Shucked weight' and 'Whole weight' are strongly correlated with 100%."
   ]
  },
  {
   "cell_type": "markdown",
   "id": "d978ba5d",
   "metadata": {},
   "source": [
    "### Find out which columns are positively and negatively correlated with each other"
   ]
  },
  {
   "cell_type": "code",
   "execution_count": 24,
   "id": "a2ddca94",
   "metadata": {},
   "outputs": [
    {
     "data": {
      "image/png": "[encoded data removed]",
      "text/plain": [
       "<Figure size 1584x504 with 1 Axes>"
      ]
     },
     "metadata": {
      "needs_background": "light"
     },
     "output_type": "display_data"
    }
   ],
   "source": [
    "plt.figure(figsize=(22,7))\n",
    "df.corr()['Rings'].sort_values(ascending = False).drop(['Rings']).plot(kind = 'bar', color = 'g')\n",
    "plt.xlabel('Feature', fontsize = 15)\n",
    "plt.ylabel('Rings', fontsize = 15)\n",
    "plt.title('correlation', fontsize = 18)\n",
    "plt.show()"
   ]
  },
  {
   "cell_type": "markdown",
   "id": "df93a770",
   "metadata": {},
   "source": [
    "As shown in plot all features are positively correlate with target variable. There are no negative correlation in it."
   ]
  },
  {
   "cell_type": "markdown",
   "id": "afaaa5d2",
   "metadata": {},
   "source": [
    "### After visualization conclude that all input variables are having some/good amount relationship with target variable. Now proceed futher for next steps:\n"
   ]
  },
  {
   "cell_type": "markdown",
   "id": "40cca3bc",
   "metadata": {},
   "source": [
    "## Encoding"
   ]
  },
  {
   "cell_type": "markdown",
   "id": "5fd898cd",
   "metadata": {},
   "source": [
    "### Encode input variable 'sex'\n"
   ]
  },
  {
   "cell_type": "code",
   "execution_count": 25,
   "id": "a5e3770d",
   "metadata": {},
   "outputs": [
    {
     "data": {
      "text/plain": [
       "array(['M', 'F', 'I'], dtype=object)"
      ]
     },
     "execution_count": 25,
     "metadata": {},
     "output_type": "execute_result"
    }
   ],
   "source": [
    "df['Sex'].unique()"
   ]
  },
  {
   "cell_type": "markdown",
   "id": "070e338f",
   "metadata": {},
   "source": [
    "There are 3 unique values present in sex column."
   ]
  },
  {
   "cell_type": "code",
   "execution_count": 26,
   "id": "a38b21ed",
   "metadata": {},
   "outputs": [
    {
     "data": {
      "text/plain": [
       "M    1528\n",
       "I    1342\n",
       "F    1307\n",
       "Name: Sex, dtype: int64"
      ]
     },
     "execution_count": 26,
     "metadata": {},
     "output_type": "execute_result"
    }
   ],
   "source": [
    "df['Sex'].value_counts()"
   ]
  },
  {
   "cell_type": "markdown",
   "id": "18ad461a",
   "metadata": {},
   "source": [
    "Number of count of each unique value."
   ]
  },
  {
   "cell_type": "code",
   "execution_count": 27,
   "id": "240237a0",
   "metadata": {},
   "outputs": [],
   "source": [
    "from sklearn.preprocessing import LabelEncoder\n",
    "enc = LabelEncoder()"
   ]
  },
  {
   "cell_type": "code",
   "execution_count": 28,
   "id": "b598cec5",
   "metadata": {},
   "outputs": [],
   "source": [
    "for i in df.columns:\n",
    "    if df[i].dtypes==\"object\":\n",
    "        df[i]=enc.fit_transform(df[i].values.reshape(-1,1))"
   ]
  },
  {
   "cell_type": "code",
   "execution_count": 29,
   "id": "c063e70b",
   "metadata": {},
   "outputs": [
    {
     "data": {
      "text/html": [
       "<div>\n",
       "<style scoped>\n",
       "    .dataframe tbody tr th:only-of-type {\n",
       "        vertical-align: middle;\n",
       "    }\n",
       "\n",
       "    .dataframe tbody tr th {\n",
       "        vertical-align: top;\n",
       "    }\n",
       "\n",
       "    .dataframe thead th {\n",
       "        text-align: right;\n",
       "    }\n",
       "</style>\n",
       "<table border=\"1\" class=\"dataframe\">\n",
       "  <thead>\n",
       "    <tr style=\"text-align: right;\">\n",
       "      <th></th>\n",
       "      <th>Sex</th>\n",
       "      <th>Length</th>\n",
       "      <th>Diameter</th>\n",
       "      <th>Height</th>\n",
       "      <th>Whole weight</th>\n",
       "      <th>Shucked weight</th>\n",
       "      <th>Viscera weight</th>\n",
       "      <th>Shell weight</th>\n",
       "      <th>Rings</th>\n",
       "    </tr>\n",
       "  </thead>\n",
       "  <tbody>\n",
       "    <tr>\n",
       "      <th>0</th>\n",
       "      <td>2</td>\n",
       "      <td>0.455</td>\n",
       "      <td>0.365</td>\n",
       "      <td>0.095</td>\n",
       "      <td>0.5140</td>\n",
       "      <td>0.2245</td>\n",
       "      <td>0.1010</td>\n",
       "      <td>0.1500</td>\n",
       "      <td>16.5</td>\n",
       "    </tr>\n",
       "    <tr>\n",
       "      <th>1</th>\n",
       "      <td>2</td>\n",
       "      <td>0.350</td>\n",
       "      <td>0.265</td>\n",
       "      <td>0.090</td>\n",
       "      <td>0.2255</td>\n",
       "      <td>0.0995</td>\n",
       "      <td>0.0485</td>\n",
       "      <td>0.0700</td>\n",
       "      <td>8.5</td>\n",
       "    </tr>\n",
       "    <tr>\n",
       "      <th>2</th>\n",
       "      <td>0</td>\n",
       "      <td>0.530</td>\n",
       "      <td>0.420</td>\n",
       "      <td>0.135</td>\n",
       "      <td>0.6770</td>\n",
       "      <td>0.2565</td>\n",
       "      <td>0.1415</td>\n",
       "      <td>0.2100</td>\n",
       "      <td>10.5</td>\n",
       "    </tr>\n",
       "    <tr>\n",
       "      <th>3</th>\n",
       "      <td>2</td>\n",
       "      <td>0.440</td>\n",
       "      <td>0.365</td>\n",
       "      <td>0.125</td>\n",
       "      <td>0.5160</td>\n",
       "      <td>0.2155</td>\n",
       "      <td>0.1140</td>\n",
       "      <td>0.1550</td>\n",
       "      <td>11.5</td>\n",
       "    </tr>\n",
       "    <tr>\n",
       "      <th>4</th>\n",
       "      <td>1</td>\n",
       "      <td>0.330</td>\n",
       "      <td>0.255</td>\n",
       "      <td>0.080</td>\n",
       "      <td>0.2050</td>\n",
       "      <td>0.0895</td>\n",
       "      <td>0.0395</td>\n",
       "      <td>0.0550</td>\n",
       "      <td>8.5</td>\n",
       "    </tr>\n",
       "    <tr>\n",
       "      <th>...</th>\n",
       "      <td>...</td>\n",
       "      <td>...</td>\n",
       "      <td>...</td>\n",
       "      <td>...</td>\n",
       "      <td>...</td>\n",
       "      <td>...</td>\n",
       "      <td>...</td>\n",
       "      <td>...</td>\n",
       "      <td>...</td>\n",
       "    </tr>\n",
       "    <tr>\n",
       "      <th>4172</th>\n",
       "      <td>0</td>\n",
       "      <td>0.565</td>\n",
       "      <td>0.450</td>\n",
       "      <td>0.165</td>\n",
       "      <td>0.8870</td>\n",
       "      <td>0.3700</td>\n",
       "      <td>0.2390</td>\n",
       "      <td>0.2490</td>\n",
       "      <td>12.5</td>\n",
       "    </tr>\n",
       "    <tr>\n",
       "      <th>4173</th>\n",
       "      <td>2</td>\n",
       "      <td>0.590</td>\n",
       "      <td>0.440</td>\n",
       "      <td>0.135</td>\n",
       "      <td>0.9660</td>\n",
       "      <td>0.4390</td>\n",
       "      <td>0.2145</td>\n",
       "      <td>0.2605</td>\n",
       "      <td>11.5</td>\n",
       "    </tr>\n",
       "    <tr>\n",
       "      <th>4174</th>\n",
       "      <td>2</td>\n",
       "      <td>0.600</td>\n",
       "      <td>0.475</td>\n",
       "      <td>0.205</td>\n",
       "      <td>1.1760</td>\n",
       "      <td>0.5255</td>\n",
       "      <td>0.2875</td>\n",
       "      <td>0.3080</td>\n",
       "      <td>10.5</td>\n",
       "    </tr>\n",
       "    <tr>\n",
       "      <th>4175</th>\n",
       "      <td>0</td>\n",
       "      <td>0.625</td>\n",
       "      <td>0.485</td>\n",
       "      <td>0.150</td>\n",
       "      <td>1.0945</td>\n",
       "      <td>0.5310</td>\n",
       "      <td>0.2610</td>\n",
       "      <td>0.2960</td>\n",
       "      <td>11.5</td>\n",
       "    </tr>\n",
       "    <tr>\n",
       "      <th>4176</th>\n",
       "      <td>2</td>\n",
       "      <td>0.710</td>\n",
       "      <td>0.555</td>\n",
       "      <td>0.195</td>\n",
       "      <td>1.9485</td>\n",
       "      <td>0.9455</td>\n",
       "      <td>0.3765</td>\n",
       "      <td>0.4950</td>\n",
       "      <td>13.5</td>\n",
       "    </tr>\n",
       "  </tbody>\n",
       "</table>\n",
       "<p>4177 rows × 9 columns</p>\n",
       "</div>"
      ],
      "text/plain": [
       "      Sex  Length  Diameter  Height  Whole weight  Shucked weight  \\\n",
       "0       2   0.455     0.365   0.095        0.5140          0.2245   \n",
       "1       2   0.350     0.265   0.090        0.2255          0.0995   \n",
       "2       0   0.530     0.420   0.135        0.6770          0.2565   \n",
       "3       2   0.440     0.365   0.125        0.5160          0.2155   \n",
       "4       1   0.330     0.255   0.080        0.2050          0.0895   \n",
       "...   ...     ...       ...     ...           ...             ...   \n",
       "4172    0   0.565     0.450   0.165        0.8870          0.3700   \n",
       "4173    2   0.590     0.440   0.135        0.9660          0.4390   \n",
       "4174    2   0.600     0.475   0.205        1.1760          0.5255   \n",
       "4175    0   0.625     0.485   0.150        1.0945          0.5310   \n",
       "4176    2   0.710     0.555   0.195        1.9485          0.9455   \n",
       "\n",
       "      Viscera weight  Shell weight  Rings  \n",
       "0             0.1010        0.1500   16.5  \n",
       "1             0.0485        0.0700    8.5  \n",
       "2             0.1415        0.2100   10.5  \n",
       "3             0.1140        0.1550   11.5  \n",
       "4             0.0395        0.0550    8.5  \n",
       "...              ...           ...    ...  \n",
       "4172          0.2390        0.2490   12.5  \n",
       "4173          0.2145        0.2605   11.5  \n",
       "4174          0.2875        0.3080   10.5  \n",
       "4175          0.2610        0.2960   11.5  \n",
       "4176          0.3765        0.4950   13.5  \n",
       "\n",
       "[4177 rows x 9 columns]"
      ]
     },
     "execution_count": 29,
     "metadata": {},
     "output_type": "execute_result"
    }
   ],
   "source": [
    "df"
   ]
  },
  {
   "cell_type": "code",
   "execution_count": 30,
   "id": "e611a7ea",
   "metadata": {},
   "outputs": [
    {
     "data": {
      "text/plain": [
       "array([2, 0, 1])"
      ]
     },
     "execution_count": 30,
     "metadata": {},
     "output_type": "execute_result"
    }
   ],
   "source": [
    "df['Sex'].unique()"
   ]
  },
  {
   "cell_type": "markdown",
   "id": "78ce1a7b",
   "metadata": {},
   "source": [
    "## Remove outliers"
   ]
  },
  {
   "cell_type": "markdown",
   "id": "cde40e18",
   "metadata": {},
   "source": [
    "Now we have found the outliers and skewness in some variables.So, first removing the outliers."
   ]
  },
  {
   "cell_type": "markdown",
   "id": "9370fe71",
   "metadata": {},
   "source": [
    "### 1.Outlier removal using Zscore"
   ]
  },
  {
   "cell_type": "code",
   "execution_count": 31,
   "id": "023b20ec",
   "metadata": {},
   "outputs": [
    {
     "name": "stdout",
     "output_type": "stream",
     "text": [
      "shape before : (4177, 9)\n",
      "shape after : (4084, 9)\n",
      "Percentage Loss : 0.022264783337323436\n"
     ]
    }
   ],
   "source": [
    "#In Zscore technique taking standard deviation 3\n",
    "#for Zscore outlier removal technique import library from scipy\n",
    "\n",
    "\n",
    "from scipy.stats import zscore\n",
    "\n",
    "z_score= zscore(df[['Length','Diameter','Height','Whole weight','Shucked weight','Viscera weight', 'Shell weight']])\n",
    "abs_zscore = np.abs(z_score)\n",
    "\n",
    "new_data = (abs_zscore < 3).all(axis = 1)\n",
    "\n",
    "new_df = df[new_data]\n",
    "\n",
    "print(\"shape before :\", df.shape)\n",
    "print(\"shape after :\", new_df.shape)\n",
    "print(\"Percentage Loss :\", (df.shape[0]-new_df.shape[0])/df.shape[0])"
   ]
  },
  {
   "cell_type": "code",
   "execution_count": 32,
   "id": "1525076e",
   "metadata": {},
   "outputs": [
    {
     "data": {
      "text/html": [
       "<div>\n",
       "<style scoped>\n",
       "    .dataframe tbody tr th:only-of-type {\n",
       "        vertical-align: middle;\n",
       "    }\n",
       "\n",
       "    .dataframe tbody tr th {\n",
       "        vertical-align: top;\n",
       "    }\n",
       "\n",
       "    .dataframe thead th {\n",
       "        text-align: right;\n",
       "    }\n",
       "</style>\n",
       "<table border=\"1\" class=\"dataframe\">\n",
       "  <thead>\n",
       "    <tr style=\"text-align: right;\">\n",
       "      <th></th>\n",
       "      <th>Sex</th>\n",
       "      <th>Length</th>\n",
       "      <th>Diameter</th>\n",
       "      <th>Height</th>\n",
       "      <th>Whole weight</th>\n",
       "      <th>Shucked weight</th>\n",
       "      <th>Viscera weight</th>\n",
       "      <th>Shell weight</th>\n",
       "      <th>Rings</th>\n",
       "    </tr>\n",
       "  </thead>\n",
       "  <tbody>\n",
       "    <tr>\n",
       "      <th>count</th>\n",
       "      <td>4084.000000</td>\n",
       "      <td>4084.000000</td>\n",
       "      <td>4084.000000</td>\n",
       "      <td>4084.000000</td>\n",
       "      <td>4084.000000</td>\n",
       "      <td>4084.000000</td>\n",
       "      <td>4084.000000</td>\n",
       "      <td>4084.000000</td>\n",
       "      <td>4084.000000</td>\n",
       "    </tr>\n",
       "    <tr>\n",
       "      <th>mean</th>\n",
       "      <td>1.050196</td>\n",
       "      <td>0.522090</td>\n",
       "      <td>0.406308</td>\n",
       "      <td>0.138530</td>\n",
       "      <td>0.808404</td>\n",
       "      <td>0.350172</td>\n",
       "      <td>0.176579</td>\n",
       "      <td>0.233142</td>\n",
       "      <td>11.401567</td>\n",
       "    </tr>\n",
       "    <tr>\n",
       "      <th>std</th>\n",
       "      <td>0.820493</td>\n",
       "      <td>0.115709</td>\n",
       "      <td>0.095848</td>\n",
       "      <td>0.037001</td>\n",
       "      <td>0.457321</td>\n",
       "      <td>0.205827</td>\n",
       "      <td>0.103336</td>\n",
       "      <td>0.129482</td>\n",
       "      <td>3.164617</td>\n",
       "    </tr>\n",
       "    <tr>\n",
       "      <th>min</th>\n",
       "      <td>0.000000</td>\n",
       "      <td>0.165000</td>\n",
       "      <td>0.115000</td>\n",
       "      <td>0.015000</td>\n",
       "      <td>0.014500</td>\n",
       "      <td>0.005500</td>\n",
       "      <td>0.000500</td>\n",
       "      <td>0.005000</td>\n",
       "      <td>4.500000</td>\n",
       "    </tr>\n",
       "    <tr>\n",
       "      <th>25%</th>\n",
       "      <td>0.000000</td>\n",
       "      <td>0.450000</td>\n",
       "      <td>0.350000</td>\n",
       "      <td>0.115000</td>\n",
       "      <td>0.441000</td>\n",
       "      <td>0.185375</td>\n",
       "      <td>0.092875</td>\n",
       "      <td>0.130000</td>\n",
       "      <td>9.500000</td>\n",
       "    </tr>\n",
       "    <tr>\n",
       "      <th>50%</th>\n",
       "      <td>1.000000</td>\n",
       "      <td>0.540000</td>\n",
       "      <td>0.420000</td>\n",
       "      <td>0.140000</td>\n",
       "      <td>0.790750</td>\n",
       "      <td>0.332000</td>\n",
       "      <td>0.168500</td>\n",
       "      <td>0.230000</td>\n",
       "      <td>10.500000</td>\n",
       "    </tr>\n",
       "    <tr>\n",
       "      <th>75%</th>\n",
       "      <td>2.000000</td>\n",
       "      <td>0.610000</td>\n",
       "      <td>0.480000</td>\n",
       "      <td>0.165000</td>\n",
       "      <td>1.134750</td>\n",
       "      <td>0.494000</td>\n",
       "      <td>0.247000</td>\n",
       "      <td>0.320500</td>\n",
       "      <td>12.500000</td>\n",
       "    </tr>\n",
       "    <tr>\n",
       "      <th>max</th>\n",
       "      <td>2.000000</td>\n",
       "      <td>0.760000</td>\n",
       "      <td>0.605000</td>\n",
       "      <td>0.250000</td>\n",
       "      <td>2.238500</td>\n",
       "      <td>1.017000</td>\n",
       "      <td>0.492500</td>\n",
       "      <td>0.655000</td>\n",
       "      <td>30.500000</td>\n",
       "    </tr>\n",
       "  </tbody>\n",
       "</table>\n",
       "</div>"
      ],
      "text/plain": [
       "               Sex       Length     Diameter       Height  Whole weight  \\\n",
       "count  4084.000000  4084.000000  4084.000000  4084.000000   4084.000000   \n",
       "mean      1.050196     0.522090     0.406308     0.138530      0.808404   \n",
       "std       0.820493     0.115709     0.095848     0.037001      0.457321   \n",
       "min       0.000000     0.165000     0.115000     0.015000      0.014500   \n",
       "25%       0.000000     0.450000     0.350000     0.115000      0.441000   \n",
       "50%       1.000000     0.540000     0.420000     0.140000      0.790750   \n",
       "75%       2.000000     0.610000     0.480000     0.165000      1.134750   \n",
       "max       2.000000     0.760000     0.605000     0.250000      2.238500   \n",
       "\n",
       "       Shucked weight  Viscera weight  Shell weight        Rings  \n",
       "count     4084.000000     4084.000000   4084.000000  4084.000000  \n",
       "mean         0.350172        0.176579      0.233142    11.401567  \n",
       "std          0.205827        0.103336      0.129482     3.164617  \n",
       "min          0.005500        0.000500      0.005000     4.500000  \n",
       "25%          0.185375        0.092875      0.130000     9.500000  \n",
       "50%          0.332000        0.168500      0.230000    10.500000  \n",
       "75%          0.494000        0.247000      0.320500    12.500000  \n",
       "max          1.017000        0.492500      0.655000    30.500000  "
      ]
     },
     "execution_count": 32,
     "metadata": {},
     "output_type": "execute_result"
    }
   ],
   "source": [
    "new_df.describe()"
   ]
  },
  {
   "cell_type": "markdown",
   "id": "65cf5c7d",
   "metadata": {},
   "source": [
    "97.773% data remains after using Zscore outlier technique."
   ]
  },
  {
   "cell_type": "markdown",
   "id": "2de49c6a",
   "metadata": {},
   "source": [
    "### 2. Outlier Removing using IQR\n"
   ]
  },
  {
   "cell_type": "markdown",
   "id": "ed5971bb",
   "metadata": {},
   "source": [
    "### from boxplot in EDA, we came to know that outliers present in following columns."
   ]
  },
  {
   "cell_type": "markdown",
   "id": "d5a0baa8",
   "metadata": {},
   "source": [
    "#### Visualize data again to check outliers are present at lower side or higher side"
   ]
  },
  {
   "cell_type": "code",
   "execution_count": 33,
   "id": "9e817c34",
   "metadata": {},
   "outputs": [],
   "source": [
    "df2 = df"
   ]
  },
  {
   "cell_type": "code",
   "execution_count": 34,
   "id": "22d469b0",
   "metadata": {},
   "outputs": [],
   "source": [
    "#features in which outliers are detected\n",
    "features = df2[[\"Length\", \"Diameter\", \"Height\", \"Whole weight\", \"Shucked weight\", \"Viscera weight\", \"Shell weight\"]]"
   ]
  },
  {
   "cell_type": "code",
   "execution_count": 35,
   "id": "972c095e",
   "metadata": {},
   "outputs": [
    {
     "data": {
      "image/png": "[encoded data removed]",
      "text/plain": [
       "<Figure size 1800x1440 with 7 Axes>"
      ]
     },
     "metadata": {
      "needs_background": "light"
     },
     "output_type": "display_data"
    }
   ],
   "source": [
    "plt.figure(figsize=(25,20))\n",
    "graph = 1\n",
    "\n",
    "for column in features:\n",
    "    if graph <= 30:\n",
    "        ax = plt.subplot(4,2, graph)\n",
    "        sns.boxplot(features[column], color = 'g')\n",
    "        plt.xlabel(column, fontsize = 20)\n",
    "        \n",
    "    graph+=1\n",
    "plt.show()"
   ]
  },
  {
   "cell_type": "code",
   "execution_count": 36,
   "id": "87db6a0a",
   "metadata": {},
   "outputs": [],
   "source": [
    "#find the IQR (Inter Quantile Range) to identify outliers\n",
    "#formula for finding IQR\n",
    "\n",
    "#1st quantile 25%\n",
    "q1 = df2.quantile(0.25)\n",
    "\n",
    "#3rd quantile 75%\n",
    "q3 = df2.quantile(0.75)\n",
    "\n",
    "#IQR = Inter Quantile Range\n",
    "iqr = q3-q1"
   ]
  },
  {
   "cell_type": "code",
   "execution_count": 37,
   "id": "c2c23e2a",
   "metadata": {},
   "outputs": [
    {
     "data": {
      "text/html": [
       "<div>\n",
       "<style scoped>\n",
       "    .dataframe tbody tr th:only-of-type {\n",
       "        vertical-align: middle;\n",
       "    }\n",
       "\n",
       "    .dataframe tbody tr th {\n",
       "        vertical-align: top;\n",
       "    }\n",
       "\n",
       "    .dataframe thead th {\n",
       "        text-align: right;\n",
       "    }\n",
       "</style>\n",
       "<table border=\"1\" class=\"dataframe\">\n",
       "  <thead>\n",
       "    <tr style=\"text-align: right;\">\n",
       "      <th></th>\n",
       "      <th>Sex</th>\n",
       "      <th>Length</th>\n",
       "      <th>Diameter</th>\n",
       "      <th>Height</th>\n",
       "      <th>Whole weight</th>\n",
       "      <th>Shucked weight</th>\n",
       "      <th>Viscera weight</th>\n",
       "      <th>Shell weight</th>\n",
       "      <th>Rings</th>\n",
       "    </tr>\n",
       "  </thead>\n",
       "  <tbody>\n",
       "    <tr>\n",
       "      <th>count</th>\n",
       "      <td>4177.000000</td>\n",
       "      <td>4177.000000</td>\n",
       "      <td>4177.000000</td>\n",
       "      <td>4177.000000</td>\n",
       "      <td>4177.000000</td>\n",
       "      <td>4177.000000</td>\n",
       "      <td>4177.000000</td>\n",
       "      <td>4177.000000</td>\n",
       "      <td>4177.000000</td>\n",
       "    </tr>\n",
       "    <tr>\n",
       "      <th>mean</th>\n",
       "      <td>1.052909</td>\n",
       "      <td>0.523992</td>\n",
       "      <td>0.407881</td>\n",
       "      <td>0.139516</td>\n",
       "      <td>0.828742</td>\n",
       "      <td>0.359367</td>\n",
       "      <td>0.180594</td>\n",
       "      <td>0.238831</td>\n",
       "      <td>11.433684</td>\n",
       "    </tr>\n",
       "    <tr>\n",
       "      <th>std</th>\n",
       "      <td>0.822240</td>\n",
       "      <td>0.120093</td>\n",
       "      <td>0.099240</td>\n",
       "      <td>0.041827</td>\n",
       "      <td>0.490389</td>\n",
       "      <td>0.221963</td>\n",
       "      <td>0.109614</td>\n",
       "      <td>0.139203</td>\n",
       "      <td>3.224169</td>\n",
       "    </tr>\n",
       "    <tr>\n",
       "      <th>min</th>\n",
       "      <td>0.000000</td>\n",
       "      <td>0.075000</td>\n",
       "      <td>0.055000</td>\n",
       "      <td>0.000000</td>\n",
       "      <td>0.002000</td>\n",
       "      <td>0.001000</td>\n",
       "      <td>0.000500</td>\n",
       "      <td>0.001500</td>\n",
       "      <td>2.500000</td>\n",
       "    </tr>\n",
       "    <tr>\n",
       "      <th>25%</th>\n",
       "      <td>0.000000</td>\n",
       "      <td>0.450000</td>\n",
       "      <td>0.350000</td>\n",
       "      <td>0.115000</td>\n",
       "      <td>0.441500</td>\n",
       "      <td>0.186000</td>\n",
       "      <td>0.093500</td>\n",
       "      <td>0.130000</td>\n",
       "      <td>9.500000</td>\n",
       "    </tr>\n",
       "    <tr>\n",
       "      <th>50%</th>\n",
       "      <td>1.000000</td>\n",
       "      <td>0.545000</td>\n",
       "      <td>0.425000</td>\n",
       "      <td>0.140000</td>\n",
       "      <td>0.799500</td>\n",
       "      <td>0.336000</td>\n",
       "      <td>0.171000</td>\n",
       "      <td>0.234000</td>\n",
       "      <td>10.500000</td>\n",
       "    </tr>\n",
       "    <tr>\n",
       "      <th>75%</th>\n",
       "      <td>2.000000</td>\n",
       "      <td>0.615000</td>\n",
       "      <td>0.480000</td>\n",
       "      <td>0.165000</td>\n",
       "      <td>1.153000</td>\n",
       "      <td>0.502000</td>\n",
       "      <td>0.253000</td>\n",
       "      <td>0.329000</td>\n",
       "      <td>12.500000</td>\n",
       "    </tr>\n",
       "    <tr>\n",
       "      <th>max</th>\n",
       "      <td>2.000000</td>\n",
       "      <td>0.815000</td>\n",
       "      <td>0.650000</td>\n",
       "      <td>1.130000</td>\n",
       "      <td>2.825500</td>\n",
       "      <td>1.488000</td>\n",
       "      <td>0.760000</td>\n",
       "      <td>1.005000</td>\n",
       "      <td>30.500000</td>\n",
       "    </tr>\n",
       "  </tbody>\n",
       "</table>\n",
       "</div>"
      ],
      "text/plain": [
       "               Sex       Length     Diameter       Height  Whole weight  \\\n",
       "count  4177.000000  4177.000000  4177.000000  4177.000000   4177.000000   \n",
       "mean      1.052909     0.523992     0.407881     0.139516      0.828742   \n",
       "std       0.822240     0.120093     0.099240     0.041827      0.490389   \n",
       "min       0.000000     0.075000     0.055000     0.000000      0.002000   \n",
       "25%       0.000000     0.450000     0.350000     0.115000      0.441500   \n",
       "50%       1.000000     0.545000     0.425000     0.140000      0.799500   \n",
       "75%       2.000000     0.615000     0.480000     0.165000      1.153000   \n",
       "max       2.000000     0.815000     0.650000     1.130000      2.825500   \n",
       "\n",
       "       Shucked weight  Viscera weight  Shell weight        Rings  \n",
       "count     4177.000000     4177.000000   4177.000000  4177.000000  \n",
       "mean         0.359367        0.180594      0.238831    11.433684  \n",
       "std          0.221963        0.109614      0.139203     3.224169  \n",
       "min          0.001000        0.000500      0.001500     2.500000  \n",
       "25%          0.186000        0.093500      0.130000     9.500000  \n",
       "50%          0.336000        0.171000      0.234000    10.500000  \n",
       "75%          0.502000        0.253000      0.329000    12.500000  \n",
       "max          1.488000        0.760000      1.005000    30.500000  "
      ]
     },
     "execution_count": 37,
     "metadata": {},
     "output_type": "execute_result"
    }
   ],
   "source": [
    "df2.describe()"
   ]
  },
  {
   "cell_type": "markdown",
   "id": "49c865be",
   "metadata": {},
   "source": [
    "## Outlier detection formula"
   ]
  },
  {
   "cell_type": "markdown",
   "id": "332441b5",
   "metadata": {},
   "source": [
    "### Higher side ==> Q3 + (1.5 * IQR)\n",
    "\n",
    "### Lower side ==> Q1 - (1.5 * IQR)"
   ]
  },
  {
   "cell_type": "markdown",
   "id": "70039811",
   "metadata": {},
   "source": [
    "#### Outliers removal from higher side"
   ]
  },
  {
   "cell_type": "code",
   "execution_count": 38,
   "id": "a2039993",
   "metadata": {},
   "outputs": [
    {
     "data": {
      "text/plain": [
       "0.20250000000000004"
      ]
     },
     "execution_count": 38,
     "metadata": {},
     "output_type": "execute_result"
    }
   ],
   "source": [
    "#Check the Outliers for Length\n",
    "#Remove outliers from lower side so, use lower side formula\n",
    "\n",
    "Length_ = (q1.Length - (1.5*(iqr.Length)))\n",
    "Length_"
   ]
  },
  {
   "cell_type": "code",
   "execution_count": 39,
   "id": "69f774b9",
   "metadata": {},
   "outputs": [
    {
     "data": {
      "text/html": [
       "<div>\n",
       "<style scoped>\n",
       "    .dataframe tbody tr th:only-of-type {\n",
       "        vertical-align: middle;\n",
       "    }\n",
       "\n",
       "    .dataframe tbody tr th {\n",
       "        vertical-align: top;\n",
       "    }\n",
       "\n",
       "    .dataframe thead th {\n",
       "        text-align: right;\n",
       "    }\n",
       "</style>\n",
       "<table border=\"1\" class=\"dataframe\">\n",
       "  <thead>\n",
       "    <tr style=\"text-align: right;\">\n",
       "      <th></th>\n",
       "      <th>index</th>\n",
       "      <th>Sex</th>\n",
       "      <th>Length</th>\n",
       "      <th>Diameter</th>\n",
       "      <th>Height</th>\n",
       "      <th>Whole weight</th>\n",
       "      <th>Shucked weight</th>\n",
       "      <th>Viscera weight</th>\n",
       "      <th>Shell weight</th>\n",
       "      <th>Rings</th>\n",
       "    </tr>\n",
       "  </thead>\n",
       "  <tbody>\n",
       "    <tr>\n",
       "      <th>0</th>\n",
       "      <td>0</td>\n",
       "      <td>2</td>\n",
       "      <td>0.455</td>\n",
       "      <td>0.365</td>\n",
       "      <td>0.095</td>\n",
       "      <td>0.5140</td>\n",
       "      <td>0.2245</td>\n",
       "      <td>0.1010</td>\n",
       "      <td>0.1500</td>\n",
       "      <td>16.5</td>\n",
       "    </tr>\n",
       "    <tr>\n",
       "      <th>1</th>\n",
       "      <td>1</td>\n",
       "      <td>2</td>\n",
       "      <td>0.350</td>\n",
       "      <td>0.265</td>\n",
       "      <td>0.090</td>\n",
       "      <td>0.2255</td>\n",
       "      <td>0.0995</td>\n",
       "      <td>0.0485</td>\n",
       "      <td>0.0700</td>\n",
       "      <td>8.5</td>\n",
       "    </tr>\n",
       "    <tr>\n",
       "      <th>2</th>\n",
       "      <td>2</td>\n",
       "      <td>0</td>\n",
       "      <td>0.530</td>\n",
       "      <td>0.420</td>\n",
       "      <td>0.135</td>\n",
       "      <td>0.6770</td>\n",
       "      <td>0.2565</td>\n",
       "      <td>0.1415</td>\n",
       "      <td>0.2100</td>\n",
       "      <td>10.5</td>\n",
       "    </tr>\n",
       "    <tr>\n",
       "      <th>3</th>\n",
       "      <td>3</td>\n",
       "      <td>2</td>\n",
       "      <td>0.440</td>\n",
       "      <td>0.365</td>\n",
       "      <td>0.125</td>\n",
       "      <td>0.5160</td>\n",
       "      <td>0.2155</td>\n",
       "      <td>0.1140</td>\n",
       "      <td>0.1550</td>\n",
       "      <td>11.5</td>\n",
       "    </tr>\n",
       "    <tr>\n",
       "      <th>4</th>\n",
       "      <td>4</td>\n",
       "      <td>1</td>\n",
       "      <td>0.330</td>\n",
       "      <td>0.255</td>\n",
       "      <td>0.080</td>\n",
       "      <td>0.2050</td>\n",
       "      <td>0.0895</td>\n",
       "      <td>0.0395</td>\n",
       "      <td>0.0550</td>\n",
       "      <td>8.5</td>\n",
       "    </tr>\n",
       "    <tr>\n",
       "      <th>...</th>\n",
       "      <td>...</td>\n",
       "      <td>...</td>\n",
       "      <td>...</td>\n",
       "      <td>...</td>\n",
       "      <td>...</td>\n",
       "      <td>...</td>\n",
       "      <td>...</td>\n",
       "      <td>...</td>\n",
       "      <td>...</td>\n",
       "      <td>...</td>\n",
       "    </tr>\n",
       "    <tr>\n",
       "      <th>4123</th>\n",
       "      <td>4172</td>\n",
       "      <td>0</td>\n",
       "      <td>0.565</td>\n",
       "      <td>0.450</td>\n",
       "      <td>0.165</td>\n",
       "      <td>0.8870</td>\n",
       "      <td>0.3700</td>\n",
       "      <td>0.2390</td>\n",
       "      <td>0.2490</td>\n",
       "      <td>12.5</td>\n",
       "    </tr>\n",
       "    <tr>\n",
       "      <th>4124</th>\n",
       "      <td>4173</td>\n",
       "      <td>2</td>\n",
       "      <td>0.590</td>\n",
       "      <td>0.440</td>\n",
       "      <td>0.135</td>\n",
       "      <td>0.9660</td>\n",
       "      <td>0.4390</td>\n",
       "      <td>0.2145</td>\n",
       "      <td>0.2605</td>\n",
       "      <td>11.5</td>\n",
       "    </tr>\n",
       "    <tr>\n",
       "      <th>4125</th>\n",
       "      <td>4174</td>\n",
       "      <td>2</td>\n",
       "      <td>0.600</td>\n",
       "      <td>0.475</td>\n",
       "      <td>0.205</td>\n",
       "      <td>1.1760</td>\n",
       "      <td>0.5255</td>\n",
       "      <td>0.2875</td>\n",
       "      <td>0.3080</td>\n",
       "      <td>10.5</td>\n",
       "    </tr>\n",
       "    <tr>\n",
       "      <th>4126</th>\n",
       "      <td>4175</td>\n",
       "      <td>0</td>\n",
       "      <td>0.625</td>\n",
       "      <td>0.485</td>\n",
       "      <td>0.150</td>\n",
       "      <td>1.0945</td>\n",
       "      <td>0.5310</td>\n",
       "      <td>0.2610</td>\n",
       "      <td>0.2960</td>\n",
       "      <td>11.5</td>\n",
       "    </tr>\n",
       "    <tr>\n",
       "      <th>4127</th>\n",
       "      <td>4176</td>\n",
       "      <td>2</td>\n",
       "      <td>0.710</td>\n",
       "      <td>0.555</td>\n",
       "      <td>0.195</td>\n",
       "      <td>1.9485</td>\n",
       "      <td>0.9455</td>\n",
       "      <td>0.3765</td>\n",
       "      <td>0.4950</td>\n",
       "      <td>13.5</td>\n",
       "    </tr>\n",
       "  </tbody>\n",
       "</table>\n",
       "<p>4128 rows × 10 columns</p>\n",
       "</div>"
      ],
      "text/plain": [
       "      index  Sex  Length  Diameter  Height  Whole weight  Shucked weight  \\\n",
       "0         0    2   0.455     0.365   0.095        0.5140          0.2245   \n",
       "1         1    2   0.350     0.265   0.090        0.2255          0.0995   \n",
       "2         2    0   0.530     0.420   0.135        0.6770          0.2565   \n",
       "3         3    2   0.440     0.365   0.125        0.5160          0.2155   \n",
       "4         4    1   0.330     0.255   0.080        0.2050          0.0895   \n",
       "...     ...  ...     ...       ...     ...           ...             ...   \n",
       "4123   4172    0   0.565     0.450   0.165        0.8870          0.3700   \n",
       "4124   4173    2   0.590     0.440   0.135        0.9660          0.4390   \n",
       "4125   4174    2   0.600     0.475   0.205        1.1760          0.5255   \n",
       "4126   4175    0   0.625     0.485   0.150        1.0945          0.5310   \n",
       "4127   4176    2   0.710     0.555   0.195        1.9485          0.9455   \n",
       "\n",
       "      Viscera weight  Shell weight  Rings  \n",
       "0             0.1010        0.1500   16.5  \n",
       "1             0.0485        0.0700    8.5  \n",
       "2             0.1415        0.2100   10.5  \n",
       "3             0.1140        0.1550   11.5  \n",
       "4             0.0395        0.0550    8.5  \n",
       "...              ...           ...    ...  \n",
       "4123          0.2390        0.2490   12.5  \n",
       "4124          0.2145        0.2605   11.5  \n",
       "4125          0.2875        0.3080   10.5  \n",
       "4126          0.2610        0.2960   11.5  \n",
       "4127          0.3765        0.4950   13.5  \n",
       "\n",
       "[4128 rows x 10 columns]"
      ]
     },
     "execution_count": 39,
     "metadata": {},
     "output_type": "execute_result"
    }
   ],
   "source": [
    "index_out = np.where(df2['Length'] < Length_)\n",
    "df2 = df2.drop(df2.index[index_out])\n",
    "df2.shape\n",
    "df2.reset_index()"
   ]
  },
  {
   "cell_type": "markdown",
   "id": "813b6ce1",
   "metadata": {},
   "source": [
    "after removing outliers the 4128 rows will remains in dataframe."
   ]
  },
  {
   "cell_type": "code",
   "execution_count": 40,
   "id": "5a2637ad",
   "metadata": {},
   "outputs": [
    {
     "data": {
      "text/plain": [
       "0.15499999999999997"
      ]
     },
     "execution_count": 40,
     "metadata": {},
     "output_type": "execute_result"
    }
   ],
   "source": [
    "# Diameter is having outliers in lower side so use lower side formula\n",
    "#Check the Outliers for Diameter\n",
    "#Remove outliers from lower side so, use lower side formula\n",
    "\n",
    "Diameter_ = (q1.Diameter - (1.5*(iqr.Diameter)))\n",
    "Diameter_"
   ]
  },
  {
   "cell_type": "code",
   "execution_count": 41,
   "id": "0c7c71ba",
   "metadata": {},
   "outputs": [
    {
     "data": {
      "text/html": [
       "<div>\n",
       "<style scoped>\n",
       "    .dataframe tbody tr th:only-of-type {\n",
       "        vertical-align: middle;\n",
       "    }\n",
       "\n",
       "    .dataframe tbody tr th {\n",
       "        vertical-align: top;\n",
       "    }\n",
       "\n",
       "    .dataframe thead th {\n",
       "        text-align: right;\n",
       "    }\n",
       "</style>\n",
       "<table border=\"1\" class=\"dataframe\">\n",
       "  <thead>\n",
       "    <tr style=\"text-align: right;\">\n",
       "      <th></th>\n",
       "      <th>index</th>\n",
       "      <th>Sex</th>\n",
       "      <th>Length</th>\n",
       "      <th>Diameter</th>\n",
       "      <th>Height</th>\n",
       "      <th>Whole weight</th>\n",
       "      <th>Shucked weight</th>\n",
       "      <th>Viscera weight</th>\n",
       "      <th>Shell weight</th>\n",
       "      <th>Rings</th>\n",
       "    </tr>\n",
       "  </thead>\n",
       "  <tbody>\n",
       "    <tr>\n",
       "      <th>0</th>\n",
       "      <td>0</td>\n",
       "      <td>2</td>\n",
       "      <td>0.455</td>\n",
       "      <td>0.365</td>\n",
       "      <td>0.095</td>\n",
       "      <td>0.5140</td>\n",
       "      <td>0.2245</td>\n",
       "      <td>0.1010</td>\n",
       "      <td>0.1500</td>\n",
       "      <td>16.5</td>\n",
       "    </tr>\n",
       "    <tr>\n",
       "      <th>1</th>\n",
       "      <td>1</td>\n",
       "      <td>2</td>\n",
       "      <td>0.350</td>\n",
       "      <td>0.265</td>\n",
       "      <td>0.090</td>\n",
       "      <td>0.2255</td>\n",
       "      <td>0.0995</td>\n",
       "      <td>0.0485</td>\n",
       "      <td>0.0700</td>\n",
       "      <td>8.5</td>\n",
       "    </tr>\n",
       "    <tr>\n",
       "      <th>2</th>\n",
       "      <td>2</td>\n",
       "      <td>0</td>\n",
       "      <td>0.530</td>\n",
       "      <td>0.420</td>\n",
       "      <td>0.135</td>\n",
       "      <td>0.6770</td>\n",
       "      <td>0.2565</td>\n",
       "      <td>0.1415</td>\n",
       "      <td>0.2100</td>\n",
       "      <td>10.5</td>\n",
       "    </tr>\n",
       "    <tr>\n",
       "      <th>3</th>\n",
       "      <td>3</td>\n",
       "      <td>2</td>\n",
       "      <td>0.440</td>\n",
       "      <td>0.365</td>\n",
       "      <td>0.125</td>\n",
       "      <td>0.5160</td>\n",
       "      <td>0.2155</td>\n",
       "      <td>0.1140</td>\n",
       "      <td>0.1550</td>\n",
       "      <td>11.5</td>\n",
       "    </tr>\n",
       "    <tr>\n",
       "      <th>4</th>\n",
       "      <td>4</td>\n",
       "      <td>1</td>\n",
       "      <td>0.330</td>\n",
       "      <td>0.255</td>\n",
       "      <td>0.080</td>\n",
       "      <td>0.2050</td>\n",
       "      <td>0.0895</td>\n",
       "      <td>0.0395</td>\n",
       "      <td>0.0550</td>\n",
       "      <td>8.5</td>\n",
       "    </tr>\n",
       "    <tr>\n",
       "      <th>...</th>\n",
       "      <td>...</td>\n",
       "      <td>...</td>\n",
       "      <td>...</td>\n",
       "      <td>...</td>\n",
       "      <td>...</td>\n",
       "      <td>...</td>\n",
       "      <td>...</td>\n",
       "      <td>...</td>\n",
       "      <td>...</td>\n",
       "      <td>...</td>\n",
       "    </tr>\n",
       "    <tr>\n",
       "      <th>4064</th>\n",
       "      <td>4172</td>\n",
       "      <td>0</td>\n",
       "      <td>0.565</td>\n",
       "      <td>0.450</td>\n",
       "      <td>0.165</td>\n",
       "      <td>0.8870</td>\n",
       "      <td>0.3700</td>\n",
       "      <td>0.2390</td>\n",
       "      <td>0.2490</td>\n",
       "      <td>12.5</td>\n",
       "    </tr>\n",
       "    <tr>\n",
       "      <th>4065</th>\n",
       "      <td>4173</td>\n",
       "      <td>2</td>\n",
       "      <td>0.590</td>\n",
       "      <td>0.440</td>\n",
       "      <td>0.135</td>\n",
       "      <td>0.9660</td>\n",
       "      <td>0.4390</td>\n",
       "      <td>0.2145</td>\n",
       "      <td>0.2605</td>\n",
       "      <td>11.5</td>\n",
       "    </tr>\n",
       "    <tr>\n",
       "      <th>4066</th>\n",
       "      <td>4174</td>\n",
       "      <td>2</td>\n",
       "      <td>0.600</td>\n",
       "      <td>0.475</td>\n",
       "      <td>0.205</td>\n",
       "      <td>1.1760</td>\n",
       "      <td>0.5255</td>\n",
       "      <td>0.2875</td>\n",
       "      <td>0.3080</td>\n",
       "      <td>10.5</td>\n",
       "    </tr>\n",
       "    <tr>\n",
       "      <th>4067</th>\n",
       "      <td>4175</td>\n",
       "      <td>0</td>\n",
       "      <td>0.625</td>\n",
       "      <td>0.485</td>\n",
       "      <td>0.150</td>\n",
       "      <td>1.0945</td>\n",
       "      <td>0.5310</td>\n",
       "      <td>0.2610</td>\n",
       "      <td>0.2960</td>\n",
       "      <td>11.5</td>\n",
       "    </tr>\n",
       "    <tr>\n",
       "      <th>4068</th>\n",
       "      <td>4176</td>\n",
       "      <td>2</td>\n",
       "      <td>0.710</td>\n",
       "      <td>0.555</td>\n",
       "      <td>0.195</td>\n",
       "      <td>1.9485</td>\n",
       "      <td>0.9455</td>\n",
       "      <td>0.3765</td>\n",
       "      <td>0.4950</td>\n",
       "      <td>13.5</td>\n",
       "    </tr>\n",
       "  </tbody>\n",
       "</table>\n",
       "<p>4069 rows × 10 columns</p>\n",
       "</div>"
      ],
      "text/plain": [
       "      index  Sex  Length  Diameter  Height  Whole weight  Shucked weight  \\\n",
       "0         0    2   0.455     0.365   0.095        0.5140          0.2245   \n",
       "1         1    2   0.350     0.265   0.090        0.2255          0.0995   \n",
       "2         2    0   0.530     0.420   0.135        0.6770          0.2565   \n",
       "3         3    2   0.440     0.365   0.125        0.5160          0.2155   \n",
       "4         4    1   0.330     0.255   0.080        0.2050          0.0895   \n",
       "...     ...  ...     ...       ...     ...           ...             ...   \n",
       "4064   4172    0   0.565     0.450   0.165        0.8870          0.3700   \n",
       "4065   4173    2   0.590     0.440   0.135        0.9660          0.4390   \n",
       "4066   4174    2   0.600     0.475   0.205        1.1760          0.5255   \n",
       "4067   4175    0   0.625     0.485   0.150        1.0945          0.5310   \n",
       "4068   4176    2   0.710     0.555   0.195        1.9485          0.9455   \n",
       "\n",
       "      Viscera weight  Shell weight  Rings  \n",
       "0             0.1010        0.1500   16.5  \n",
       "1             0.0485        0.0700    8.5  \n",
       "2             0.1415        0.2100   10.5  \n",
       "3             0.1140        0.1550   11.5  \n",
       "4             0.0395        0.0550    8.5  \n",
       "...              ...           ...    ...  \n",
       "4064          0.2390        0.2490   12.5  \n",
       "4065          0.2145        0.2605   11.5  \n",
       "4066          0.2875        0.3080   10.5  \n",
       "4067          0.2610        0.2960   11.5  \n",
       "4068          0.3765        0.4950   13.5  \n",
       "\n",
       "[4069 rows x 10 columns]"
      ]
     },
     "execution_count": 41,
     "metadata": {},
     "output_type": "execute_result"
    }
   ],
   "source": [
    "index_out = np.where(df['Diameter'] < Diameter_)\n",
    "df2 = df2.drop(df2.index[index_out])\n",
    "df2.shape\n",
    "df2.reset_index()"
   ]
  },
  {
   "cell_type": "markdown",
   "id": "0524b7a0",
   "metadata": {},
   "source": [
    "after removing outliers the 4069 rows will remains in dataframe."
   ]
  },
  {
   "cell_type": "code",
   "execution_count": 42,
   "id": "73da9ab0",
   "metadata": {},
   "outputs": [
    {
     "data": {
      "text/plain": [
       "0.039999999999999994"
      ]
     },
     "execution_count": 42,
     "metadata": {},
     "output_type": "execute_result"
    }
   ],
   "source": [
    "# Height is having outliers in lower side so use lower side formula\n",
    "#Check the Outliers for Height\n",
    "#Remove outliers from lower side so, use lower side formula\n",
    "\n",
    "Height_ = (q1.Height - (1.5*(iqr.Height)))\n",
    "Height_"
   ]
  },
  {
   "cell_type": "code",
   "execution_count": 43,
   "id": "8f0c2364",
   "metadata": {},
   "outputs": [
    {
     "data": {
      "text/html": [
       "<div>\n",
       "<style scoped>\n",
       "    .dataframe tbody tr th:only-of-type {\n",
       "        vertical-align: middle;\n",
       "    }\n",
       "\n",
       "    .dataframe tbody tr th {\n",
       "        vertical-align: top;\n",
       "    }\n",
       "\n",
       "    .dataframe thead th {\n",
       "        text-align: right;\n",
       "    }\n",
       "</style>\n",
       "<table border=\"1\" class=\"dataframe\">\n",
       "  <thead>\n",
       "    <tr style=\"text-align: right;\">\n",
       "      <th></th>\n",
       "      <th>index</th>\n",
       "      <th>Sex</th>\n",
       "      <th>Length</th>\n",
       "      <th>Diameter</th>\n",
       "      <th>Height</th>\n",
       "      <th>Whole weight</th>\n",
       "      <th>Shucked weight</th>\n",
       "      <th>Viscera weight</th>\n",
       "      <th>Shell weight</th>\n",
       "      <th>Rings</th>\n",
       "    </tr>\n",
       "  </thead>\n",
       "  <tbody>\n",
       "    <tr>\n",
       "      <th>0</th>\n",
       "      <td>0</td>\n",
       "      <td>2</td>\n",
       "      <td>0.455</td>\n",
       "      <td>0.365</td>\n",
       "      <td>0.095</td>\n",
       "      <td>0.5140</td>\n",
       "      <td>0.2245</td>\n",
       "      <td>0.1010</td>\n",
       "      <td>0.1500</td>\n",
       "      <td>16.5</td>\n",
       "    </tr>\n",
       "    <tr>\n",
       "      <th>1</th>\n",
       "      <td>1</td>\n",
       "      <td>2</td>\n",
       "      <td>0.350</td>\n",
       "      <td>0.265</td>\n",
       "      <td>0.090</td>\n",
       "      <td>0.2255</td>\n",
       "      <td>0.0995</td>\n",
       "      <td>0.0485</td>\n",
       "      <td>0.0700</td>\n",
       "      <td>8.5</td>\n",
       "    </tr>\n",
       "    <tr>\n",
       "      <th>2</th>\n",
       "      <td>2</td>\n",
       "      <td>0</td>\n",
       "      <td>0.530</td>\n",
       "      <td>0.420</td>\n",
       "      <td>0.135</td>\n",
       "      <td>0.6770</td>\n",
       "      <td>0.2565</td>\n",
       "      <td>0.1415</td>\n",
       "      <td>0.2100</td>\n",
       "      <td>10.5</td>\n",
       "    </tr>\n",
       "    <tr>\n",
       "      <th>3</th>\n",
       "      <td>3</td>\n",
       "      <td>2</td>\n",
       "      <td>0.440</td>\n",
       "      <td>0.365</td>\n",
       "      <td>0.125</td>\n",
       "      <td>0.5160</td>\n",
       "      <td>0.2155</td>\n",
       "      <td>0.1140</td>\n",
       "      <td>0.1550</td>\n",
       "      <td>11.5</td>\n",
       "    </tr>\n",
       "    <tr>\n",
       "      <th>4</th>\n",
       "      <td>4</td>\n",
       "      <td>1</td>\n",
       "      <td>0.330</td>\n",
       "      <td>0.255</td>\n",
       "      <td>0.080</td>\n",
       "      <td>0.2050</td>\n",
       "      <td>0.0895</td>\n",
       "      <td>0.0395</td>\n",
       "      <td>0.0550</td>\n",
       "      <td>8.5</td>\n",
       "    </tr>\n",
       "    <tr>\n",
       "      <th>...</th>\n",
       "      <td>...</td>\n",
       "      <td>...</td>\n",
       "      <td>...</td>\n",
       "      <td>...</td>\n",
       "      <td>...</td>\n",
       "      <td>...</td>\n",
       "      <td>...</td>\n",
       "      <td>...</td>\n",
       "      <td>...</td>\n",
       "      <td>...</td>\n",
       "    </tr>\n",
       "    <tr>\n",
       "      <th>4060</th>\n",
       "      <td>4172</td>\n",
       "      <td>0</td>\n",
       "      <td>0.565</td>\n",
       "      <td>0.450</td>\n",
       "      <td>0.165</td>\n",
       "      <td>0.8870</td>\n",
       "      <td>0.3700</td>\n",
       "      <td>0.2390</td>\n",
       "      <td>0.2490</td>\n",
       "      <td>12.5</td>\n",
       "    </tr>\n",
       "    <tr>\n",
       "      <th>4061</th>\n",
       "      <td>4173</td>\n",
       "      <td>2</td>\n",
       "      <td>0.590</td>\n",
       "      <td>0.440</td>\n",
       "      <td>0.135</td>\n",
       "      <td>0.9660</td>\n",
       "      <td>0.4390</td>\n",
       "      <td>0.2145</td>\n",
       "      <td>0.2605</td>\n",
       "      <td>11.5</td>\n",
       "    </tr>\n",
       "    <tr>\n",
       "      <th>4062</th>\n",
       "      <td>4174</td>\n",
       "      <td>2</td>\n",
       "      <td>0.600</td>\n",
       "      <td>0.475</td>\n",
       "      <td>0.205</td>\n",
       "      <td>1.1760</td>\n",
       "      <td>0.5255</td>\n",
       "      <td>0.2875</td>\n",
       "      <td>0.3080</td>\n",
       "      <td>10.5</td>\n",
       "    </tr>\n",
       "    <tr>\n",
       "      <th>4063</th>\n",
       "      <td>4175</td>\n",
       "      <td>0</td>\n",
       "      <td>0.625</td>\n",
       "      <td>0.485</td>\n",
       "      <td>0.150</td>\n",
       "      <td>1.0945</td>\n",
       "      <td>0.5310</td>\n",
       "      <td>0.2610</td>\n",
       "      <td>0.2960</td>\n",
       "      <td>11.5</td>\n",
       "    </tr>\n",
       "    <tr>\n",
       "      <th>4064</th>\n",
       "      <td>4176</td>\n",
       "      <td>2</td>\n",
       "      <td>0.710</td>\n",
       "      <td>0.555</td>\n",
       "      <td>0.195</td>\n",
       "      <td>1.9485</td>\n",
       "      <td>0.9455</td>\n",
       "      <td>0.3765</td>\n",
       "      <td>0.4950</td>\n",
       "      <td>13.5</td>\n",
       "    </tr>\n",
       "  </tbody>\n",
       "</table>\n",
       "<p>4065 rows × 10 columns</p>\n",
       "</div>"
      ],
      "text/plain": [
       "      index  Sex  Length  Diameter  Height  Whole weight  Shucked weight  \\\n",
       "0         0    2   0.455     0.365   0.095        0.5140          0.2245   \n",
       "1         1    2   0.350     0.265   0.090        0.2255          0.0995   \n",
       "2         2    0   0.530     0.420   0.135        0.6770          0.2565   \n",
       "3         3    2   0.440     0.365   0.125        0.5160          0.2155   \n",
       "4         4    1   0.330     0.255   0.080        0.2050          0.0895   \n",
       "...     ...  ...     ...       ...     ...           ...             ...   \n",
       "4060   4172    0   0.565     0.450   0.165        0.8870          0.3700   \n",
       "4061   4173    2   0.590     0.440   0.135        0.9660          0.4390   \n",
       "4062   4174    2   0.600     0.475   0.205        1.1760          0.5255   \n",
       "4063   4175    0   0.625     0.485   0.150        1.0945          0.5310   \n",
       "4064   4176    2   0.710     0.555   0.195        1.9485          0.9455   \n",
       "\n",
       "      Viscera weight  Shell weight  Rings  \n",
       "0             0.1010        0.1500   16.5  \n",
       "1             0.0485        0.0700    8.5  \n",
       "2             0.1415        0.2100   10.5  \n",
       "3             0.1140        0.1550   11.5  \n",
       "4             0.0395        0.0550    8.5  \n",
       "...              ...           ...    ...  \n",
       "4060          0.2390        0.2490   12.5  \n",
       "4061          0.2145        0.2605   11.5  \n",
       "4062          0.2875        0.3080   10.5  \n",
       "4063          0.2610        0.2960   11.5  \n",
       "4064          0.3765        0.4950   13.5  \n",
       "\n",
       "[4065 rows x 10 columns]"
      ]
     },
     "execution_count": 43,
     "metadata": {},
     "output_type": "execute_result"
    }
   ],
   "source": [
    "index_out = np.where(df2['Height'] < Height_)\n",
    "df2 = df2.drop(df2.index[index_out])\n",
    "df2.shape\n",
    "df2.reset_index()"
   ]
  },
  {
   "cell_type": "code",
   "execution_count": 44,
   "id": "88ca8579",
   "metadata": {},
   "outputs": [
    {
     "data": {
      "text/plain": [
       "0.24000000000000002"
      ]
     },
     "execution_count": 44,
     "metadata": {},
     "output_type": "execute_result"
    }
   ],
   "source": [
    "#as shown in boxplot we have outlier in higher side of height also\n",
    "#Remove outliers from higher side so, use higher side formula\n",
    "\n",
    "Height_high = (q3.Height + (1.5*(iqr.Height)))\n",
    "Height_high"
   ]
  },
  {
   "cell_type": "code",
   "execution_count": 45,
   "id": "722feb07",
   "metadata": {},
   "outputs": [
    {
     "data": {
      "text/html": [
       "<div>\n",
       "<style scoped>\n",
       "    .dataframe tbody tr th:only-of-type {\n",
       "        vertical-align: middle;\n",
       "    }\n",
       "\n",
       "    .dataframe tbody tr th {\n",
       "        vertical-align: top;\n",
       "    }\n",
       "\n",
       "    .dataframe thead th {\n",
       "        text-align: right;\n",
       "    }\n",
       "</style>\n",
       "<table border=\"1\" class=\"dataframe\">\n",
       "  <thead>\n",
       "    <tr style=\"text-align: right;\">\n",
       "      <th></th>\n",
       "      <th>index</th>\n",
       "      <th>Sex</th>\n",
       "      <th>Length</th>\n",
       "      <th>Diameter</th>\n",
       "      <th>Height</th>\n",
       "      <th>Whole weight</th>\n",
       "      <th>Shucked weight</th>\n",
       "      <th>Viscera weight</th>\n",
       "      <th>Shell weight</th>\n",
       "      <th>Rings</th>\n",
       "    </tr>\n",
       "  </thead>\n",
       "  <tbody>\n",
       "    <tr>\n",
       "      <th>0</th>\n",
       "      <td>0</td>\n",
       "      <td>2</td>\n",
       "      <td>0.455</td>\n",
       "      <td>0.365</td>\n",
       "      <td>0.095</td>\n",
       "      <td>0.5140</td>\n",
       "      <td>0.2245</td>\n",
       "      <td>0.1010</td>\n",
       "      <td>0.1500</td>\n",
       "      <td>16.5</td>\n",
       "    </tr>\n",
       "    <tr>\n",
       "      <th>1</th>\n",
       "      <td>1</td>\n",
       "      <td>2</td>\n",
       "      <td>0.350</td>\n",
       "      <td>0.265</td>\n",
       "      <td>0.090</td>\n",
       "      <td>0.2255</td>\n",
       "      <td>0.0995</td>\n",
       "      <td>0.0485</td>\n",
       "      <td>0.0700</td>\n",
       "      <td>8.5</td>\n",
       "    </tr>\n",
       "    <tr>\n",
       "      <th>2</th>\n",
       "      <td>2</td>\n",
       "      <td>0</td>\n",
       "      <td>0.530</td>\n",
       "      <td>0.420</td>\n",
       "      <td>0.135</td>\n",
       "      <td>0.6770</td>\n",
       "      <td>0.2565</td>\n",
       "      <td>0.1415</td>\n",
       "      <td>0.2100</td>\n",
       "      <td>10.5</td>\n",
       "    </tr>\n",
       "    <tr>\n",
       "      <th>3</th>\n",
       "      <td>3</td>\n",
       "      <td>2</td>\n",
       "      <td>0.440</td>\n",
       "      <td>0.365</td>\n",
       "      <td>0.125</td>\n",
       "      <td>0.5160</td>\n",
       "      <td>0.2155</td>\n",
       "      <td>0.1140</td>\n",
       "      <td>0.1550</td>\n",
       "      <td>11.5</td>\n",
       "    </tr>\n",
       "    <tr>\n",
       "      <th>4</th>\n",
       "      <td>4</td>\n",
       "      <td>1</td>\n",
       "      <td>0.330</td>\n",
       "      <td>0.255</td>\n",
       "      <td>0.080</td>\n",
       "      <td>0.2050</td>\n",
       "      <td>0.0895</td>\n",
       "      <td>0.0395</td>\n",
       "      <td>0.0550</td>\n",
       "      <td>8.5</td>\n",
       "    </tr>\n",
       "    <tr>\n",
       "      <th>...</th>\n",
       "      <td>...</td>\n",
       "      <td>...</td>\n",
       "      <td>...</td>\n",
       "      <td>...</td>\n",
       "      <td>...</td>\n",
       "      <td>...</td>\n",
       "      <td>...</td>\n",
       "      <td>...</td>\n",
       "      <td>...</td>\n",
       "      <td>...</td>\n",
       "    </tr>\n",
       "    <tr>\n",
       "      <th>4055</th>\n",
       "      <td>4172</td>\n",
       "      <td>0</td>\n",
       "      <td>0.565</td>\n",
       "      <td>0.450</td>\n",
       "      <td>0.165</td>\n",
       "      <td>0.8870</td>\n",
       "      <td>0.3700</td>\n",
       "      <td>0.2390</td>\n",
       "      <td>0.2490</td>\n",
       "      <td>12.5</td>\n",
       "    </tr>\n",
       "    <tr>\n",
       "      <th>4056</th>\n",
       "      <td>4173</td>\n",
       "      <td>2</td>\n",
       "      <td>0.590</td>\n",
       "      <td>0.440</td>\n",
       "      <td>0.135</td>\n",
       "      <td>0.9660</td>\n",
       "      <td>0.4390</td>\n",
       "      <td>0.2145</td>\n",
       "      <td>0.2605</td>\n",
       "      <td>11.5</td>\n",
       "    </tr>\n",
       "    <tr>\n",
       "      <th>4057</th>\n",
       "      <td>4174</td>\n",
       "      <td>2</td>\n",
       "      <td>0.600</td>\n",
       "      <td>0.475</td>\n",
       "      <td>0.205</td>\n",
       "      <td>1.1760</td>\n",
       "      <td>0.5255</td>\n",
       "      <td>0.2875</td>\n",
       "      <td>0.3080</td>\n",
       "      <td>10.5</td>\n",
       "    </tr>\n",
       "    <tr>\n",
       "      <th>4058</th>\n",
       "      <td>4175</td>\n",
       "      <td>0</td>\n",
       "      <td>0.625</td>\n",
       "      <td>0.485</td>\n",
       "      <td>0.150</td>\n",
       "      <td>1.0945</td>\n",
       "      <td>0.5310</td>\n",
       "      <td>0.2610</td>\n",
       "      <td>0.2960</td>\n",
       "      <td>11.5</td>\n",
       "    </tr>\n",
       "    <tr>\n",
       "      <th>4059</th>\n",
       "      <td>4176</td>\n",
       "      <td>2</td>\n",
       "      <td>0.710</td>\n",
       "      <td>0.555</td>\n",
       "      <td>0.195</td>\n",
       "      <td>1.9485</td>\n",
       "      <td>0.9455</td>\n",
       "      <td>0.3765</td>\n",
       "      <td>0.4950</td>\n",
       "      <td>13.5</td>\n",
       "    </tr>\n",
       "  </tbody>\n",
       "</table>\n",
       "<p>4060 rows × 10 columns</p>\n",
       "</div>"
      ],
      "text/plain": [
       "      index  Sex  Length  Diameter  Height  Whole weight  Shucked weight  \\\n",
       "0         0    2   0.455     0.365   0.095        0.5140          0.2245   \n",
       "1         1    2   0.350     0.265   0.090        0.2255          0.0995   \n",
       "2         2    0   0.530     0.420   0.135        0.6770          0.2565   \n",
       "3         3    2   0.440     0.365   0.125        0.5160          0.2155   \n",
       "4         4    1   0.330     0.255   0.080        0.2050          0.0895   \n",
       "...     ...  ...     ...       ...     ...           ...             ...   \n",
       "4055   4172    0   0.565     0.450   0.165        0.8870          0.3700   \n",
       "4056   4173    2   0.590     0.440   0.135        0.9660          0.4390   \n",
       "4057   4174    2   0.600     0.475   0.205        1.1760          0.5255   \n",
       "4058   4175    0   0.625     0.485   0.150        1.0945          0.5310   \n",
       "4059   4176    2   0.710     0.555   0.195        1.9485          0.9455   \n",
       "\n",
       "      Viscera weight  Shell weight  Rings  \n",
       "0             0.1010        0.1500   16.5  \n",
       "1             0.0485        0.0700    8.5  \n",
       "2             0.1415        0.2100   10.5  \n",
       "3             0.1140        0.1550   11.5  \n",
       "4             0.0395        0.0550    8.5  \n",
       "...              ...           ...    ...  \n",
       "4055          0.2390        0.2490   12.5  \n",
       "4056          0.2145        0.2605   11.5  \n",
       "4057          0.2875        0.3080   10.5  \n",
       "4058          0.2610        0.2960   11.5  \n",
       "4059          0.3765        0.4950   13.5  \n",
       "\n",
       "[4060 rows x 10 columns]"
      ]
     },
     "execution_count": 45,
     "metadata": {},
     "output_type": "execute_result"
    }
   ],
   "source": [
    "index_out = np.where(df2['Height'] > Height_high)\n",
    "df2 = df2.drop(df2.index[index_out])\n",
    "df2.shape\n",
    "df2.reset_index()"
   ]
  },
  {
   "cell_type": "markdown",
   "id": "9176f57a",
   "metadata": {},
   "source": [
    "after removing outliers the 4060 rows will remains in dataframe."
   ]
  },
  {
   "cell_type": "code",
   "execution_count": 46,
   "id": "49e771ef",
   "metadata": {},
   "outputs": [
    {
     "data": {
      "text/plain": [
       "2.22025"
      ]
     },
     "execution_count": 46,
     "metadata": {},
     "output_type": "execute_result"
    }
   ],
   "source": [
    "#as shown in boxplot we have outlier in higher side of whole weightafter removing outliers the 4069 rows will remains in dataframe. \n",
    "#Remove outliers from higher side so, use higher side formula\n",
    "\n",
    "Wholeweight_ = (1.153000 + (1.5*(1.153000-0.441500)))\n",
    "Wholeweight_"
   ]
  },
  {
   "cell_type": "code",
   "execution_count": 47,
   "id": "6f594c99",
   "metadata": {},
   "outputs": [
    {
     "data": {
      "text/html": [
       "<div>\n",
       "<style scoped>\n",
       "    .dataframe tbody tr th:only-of-type {\n",
       "        vertical-align: middle;\n",
       "    }\n",
       "\n",
       "    .dataframe tbody tr th {\n",
       "        vertical-align: top;\n",
       "    }\n",
       "\n",
       "    .dataframe thead th {\n",
       "        text-align: right;\n",
       "    }\n",
       "</style>\n",
       "<table border=\"1\" class=\"dataframe\">\n",
       "  <thead>\n",
       "    <tr style=\"text-align: right;\">\n",
       "      <th></th>\n",
       "      <th>index</th>\n",
       "      <th>Sex</th>\n",
       "      <th>Length</th>\n",
       "      <th>Diameter</th>\n",
       "      <th>Height</th>\n",
       "      <th>Whole weight</th>\n",
       "      <th>Shucked weight</th>\n",
       "      <th>Viscera weight</th>\n",
       "      <th>Shell weight</th>\n",
       "      <th>Rings</th>\n",
       "    </tr>\n",
       "  </thead>\n",
       "  <tbody>\n",
       "    <tr>\n",
       "      <th>0</th>\n",
       "      <td>0</td>\n",
       "      <td>2</td>\n",
       "      <td>0.455</td>\n",
       "      <td>0.365</td>\n",
       "      <td>0.095</td>\n",
       "      <td>0.5140</td>\n",
       "      <td>0.2245</td>\n",
       "      <td>0.1010</td>\n",
       "      <td>0.1500</td>\n",
       "      <td>16.5</td>\n",
       "    </tr>\n",
       "    <tr>\n",
       "      <th>1</th>\n",
       "      <td>1</td>\n",
       "      <td>2</td>\n",
       "      <td>0.350</td>\n",
       "      <td>0.265</td>\n",
       "      <td>0.090</td>\n",
       "      <td>0.2255</td>\n",
       "      <td>0.0995</td>\n",
       "      <td>0.0485</td>\n",
       "      <td>0.0700</td>\n",
       "      <td>8.5</td>\n",
       "    </tr>\n",
       "    <tr>\n",
       "      <th>2</th>\n",
       "      <td>2</td>\n",
       "      <td>0</td>\n",
       "      <td>0.530</td>\n",
       "      <td>0.420</td>\n",
       "      <td>0.135</td>\n",
       "      <td>0.6770</td>\n",
       "      <td>0.2565</td>\n",
       "      <td>0.1415</td>\n",
       "      <td>0.2100</td>\n",
       "      <td>10.5</td>\n",
       "    </tr>\n",
       "    <tr>\n",
       "      <th>3</th>\n",
       "      <td>3</td>\n",
       "      <td>2</td>\n",
       "      <td>0.440</td>\n",
       "      <td>0.365</td>\n",
       "      <td>0.125</td>\n",
       "      <td>0.5160</td>\n",
       "      <td>0.2155</td>\n",
       "      <td>0.1140</td>\n",
       "      <td>0.1550</td>\n",
       "      <td>11.5</td>\n",
       "    </tr>\n",
       "    <tr>\n",
       "      <th>4</th>\n",
       "      <td>4</td>\n",
       "      <td>1</td>\n",
       "      <td>0.330</td>\n",
       "      <td>0.255</td>\n",
       "      <td>0.080</td>\n",
       "      <td>0.2050</td>\n",
       "      <td>0.0895</td>\n",
       "      <td>0.0395</td>\n",
       "      <td>0.0550</td>\n",
       "      <td>8.5</td>\n",
       "    </tr>\n",
       "    <tr>\n",
       "      <th>...</th>\n",
       "      <td>...</td>\n",
       "      <td>...</td>\n",
       "      <td>...</td>\n",
       "      <td>...</td>\n",
       "      <td>...</td>\n",
       "      <td>...</td>\n",
       "      <td>...</td>\n",
       "      <td>...</td>\n",
       "      <td>...</td>\n",
       "      <td>...</td>\n",
       "    </tr>\n",
       "    <tr>\n",
       "      <th>4025</th>\n",
       "      <td>4172</td>\n",
       "      <td>0</td>\n",
       "      <td>0.565</td>\n",
       "      <td>0.450</td>\n",
       "      <td>0.165</td>\n",
       "      <td>0.8870</td>\n",
       "      <td>0.3700</td>\n",
       "      <td>0.2390</td>\n",
       "      <td>0.2490</td>\n",
       "      <td>12.5</td>\n",
       "    </tr>\n",
       "    <tr>\n",
       "      <th>4026</th>\n",
       "      <td>4173</td>\n",
       "      <td>2</td>\n",
       "      <td>0.590</td>\n",
       "      <td>0.440</td>\n",
       "      <td>0.135</td>\n",
       "      <td>0.9660</td>\n",
       "      <td>0.4390</td>\n",
       "      <td>0.2145</td>\n",
       "      <td>0.2605</td>\n",
       "      <td>11.5</td>\n",
       "    </tr>\n",
       "    <tr>\n",
       "      <th>4027</th>\n",
       "      <td>4174</td>\n",
       "      <td>2</td>\n",
       "      <td>0.600</td>\n",
       "      <td>0.475</td>\n",
       "      <td>0.205</td>\n",
       "      <td>1.1760</td>\n",
       "      <td>0.5255</td>\n",
       "      <td>0.2875</td>\n",
       "      <td>0.3080</td>\n",
       "      <td>10.5</td>\n",
       "    </tr>\n",
       "    <tr>\n",
       "      <th>4028</th>\n",
       "      <td>4175</td>\n",
       "      <td>0</td>\n",
       "      <td>0.625</td>\n",
       "      <td>0.485</td>\n",
       "      <td>0.150</td>\n",
       "      <td>1.0945</td>\n",
       "      <td>0.5310</td>\n",
       "      <td>0.2610</td>\n",
       "      <td>0.2960</td>\n",
       "      <td>11.5</td>\n",
       "    </tr>\n",
       "    <tr>\n",
       "      <th>4029</th>\n",
       "      <td>4176</td>\n",
       "      <td>2</td>\n",
       "      <td>0.710</td>\n",
       "      <td>0.555</td>\n",
       "      <td>0.195</td>\n",
       "      <td>1.9485</td>\n",
       "      <td>0.9455</td>\n",
       "      <td>0.3765</td>\n",
       "      <td>0.4950</td>\n",
       "      <td>13.5</td>\n",
       "    </tr>\n",
       "  </tbody>\n",
       "</table>\n",
       "<p>4030 rows × 10 columns</p>\n",
       "</div>"
      ],
      "text/plain": [
       "      index  Sex  Length  Diameter  Height  Whole weight  Shucked weight  \\\n",
       "0         0    2   0.455     0.365   0.095        0.5140          0.2245   \n",
       "1         1    2   0.350     0.265   0.090        0.2255          0.0995   \n",
       "2         2    0   0.530     0.420   0.135        0.6770          0.2565   \n",
       "3         3    2   0.440     0.365   0.125        0.5160          0.2155   \n",
       "4         4    1   0.330     0.255   0.080        0.2050          0.0895   \n",
       "...     ...  ...     ...       ...     ...           ...             ...   \n",
       "4025   4172    0   0.565     0.450   0.165        0.8870          0.3700   \n",
       "4026   4173    2   0.590     0.440   0.135        0.9660          0.4390   \n",
       "4027   4174    2   0.600     0.475   0.205        1.1760          0.5255   \n",
       "4028   4175    0   0.625     0.485   0.150        1.0945          0.5310   \n",
       "4029   4176    2   0.710     0.555   0.195        1.9485          0.9455   \n",
       "\n",
       "      Viscera weight  Shell weight  Rings  \n",
       "0             0.1010        0.1500   16.5  \n",
       "1             0.0485        0.0700    8.5  \n",
       "2             0.1415        0.2100   10.5  \n",
       "3             0.1140        0.1550   11.5  \n",
       "4             0.0395        0.0550    8.5  \n",
       "...              ...           ...    ...  \n",
       "4025          0.2390        0.2490   12.5  \n",
       "4026          0.2145        0.2605   11.5  \n",
       "4027          0.2875        0.3080   10.5  \n",
       "4028          0.2610        0.2960   11.5  \n",
       "4029          0.3765        0.4950   13.5  \n",
       "\n",
       "[4030 rows x 10 columns]"
      ]
     },
     "execution_count": 47,
     "metadata": {},
     "output_type": "execute_result"
    }
   ],
   "source": [
    "index_out = np.where(df['Whole weight'] > Wholeweight_)\n",
    "df2 = df2.drop(df2.index[index_out])\n",
    "df2.shape\n",
    "df2.reset_index()"
   ]
  },
  {
   "cell_type": "markdown",
   "id": "f4e8f147",
   "metadata": {},
   "source": [
    "after removing outliers in Whole weight the 4030 rows will remains in dataframe."
   ]
  },
  {
   "cell_type": "code",
   "execution_count": 48,
   "id": "6ac9cfa7",
   "metadata": {},
   "outputs": [
    {
     "data": {
      "text/plain": [
       "0.35350000000000004"
      ]
     },
     "execution_count": 48,
     "metadata": {},
     "output_type": "execute_result"
    }
   ],
   "source": [
    "#as shown in boxplot we have outlier in higher side of Shucked weight \n",
    "#Remove outliers from higher side so, use higher side formula\n",
    "\n",
    "Shuckedweight_ = (0.253000 + (1.5*(0.253000-0.186000)))\n",
    "Shuckedweight_"
   ]
  },
  {
   "cell_type": "code",
   "execution_count": 49,
   "id": "b66ddd9d",
   "metadata": {},
   "outputs": [
    {
     "data": {
      "text/plain": [
       "0       0.2245\n",
       "1       0.0995\n",
       "2       0.2565\n",
       "3       0.2155\n",
       "4       0.0895\n",
       "         ...  \n",
       "4172    0.3700\n",
       "4173    0.4390\n",
       "4174    0.5255\n",
       "4175    0.5310\n",
       "4176    0.9455\n",
       "Name: Shucked weight, Length: 4030, dtype: float64"
      ]
     },
     "execution_count": 49,
     "metadata": {},
     "output_type": "execute_result"
    }
   ],
   "source": [
    "df2['Shucked weight']"
   ]
  },
  {
   "cell_type": "code",
   "execution_count": 50,
   "id": "bfc92fae",
   "metadata": {},
   "outputs": [
    {
     "data": {
      "text/html": [
       "<div>\n",
       "<style scoped>\n",
       "    .dataframe tbody tr th:only-of-type {\n",
       "        vertical-align: middle;\n",
       "    }\n",
       "\n",
       "    .dataframe tbody tr th {\n",
       "        vertical-align: top;\n",
       "    }\n",
       "\n",
       "    .dataframe thead th {\n",
       "        text-align: right;\n",
       "    }\n",
       "</style>\n",
       "<table border=\"1\" class=\"dataframe\">\n",
       "  <thead>\n",
       "    <tr style=\"text-align: right;\">\n",
       "      <th></th>\n",
       "      <th>index</th>\n",
       "      <th>Sex</th>\n",
       "      <th>Length</th>\n",
       "      <th>Diameter</th>\n",
       "      <th>Height</th>\n",
       "      <th>Whole weight</th>\n",
       "      <th>Shucked weight</th>\n",
       "      <th>Viscera weight</th>\n",
       "      <th>Shell weight</th>\n",
       "      <th>Rings</th>\n",
       "    </tr>\n",
       "  </thead>\n",
       "  <tbody>\n",
       "    <tr>\n",
       "      <th>0</th>\n",
       "      <td>0</td>\n",
       "      <td>2</td>\n",
       "      <td>0.455</td>\n",
       "      <td>0.365</td>\n",
       "      <td>0.095</td>\n",
       "      <td>0.5140</td>\n",
       "      <td>0.2245</td>\n",
       "      <td>0.1010</td>\n",
       "      <td>0.1500</td>\n",
       "      <td>16.5</td>\n",
       "    </tr>\n",
       "    <tr>\n",
       "      <th>1</th>\n",
       "      <td>1</td>\n",
       "      <td>2</td>\n",
       "      <td>0.350</td>\n",
       "      <td>0.265</td>\n",
       "      <td>0.090</td>\n",
       "      <td>0.2255</td>\n",
       "      <td>0.0995</td>\n",
       "      <td>0.0485</td>\n",
       "      <td>0.0700</td>\n",
       "      <td>8.5</td>\n",
       "    </tr>\n",
       "    <tr>\n",
       "      <th>2</th>\n",
       "      <td>2</td>\n",
       "      <td>0</td>\n",
       "      <td>0.530</td>\n",
       "      <td>0.420</td>\n",
       "      <td>0.135</td>\n",
       "      <td>0.6770</td>\n",
       "      <td>0.2565</td>\n",
       "      <td>0.1415</td>\n",
       "      <td>0.2100</td>\n",
       "      <td>10.5</td>\n",
       "    </tr>\n",
       "    <tr>\n",
       "      <th>3</th>\n",
       "      <td>3</td>\n",
       "      <td>2</td>\n",
       "      <td>0.440</td>\n",
       "      <td>0.365</td>\n",
       "      <td>0.125</td>\n",
       "      <td>0.5160</td>\n",
       "      <td>0.2155</td>\n",
       "      <td>0.1140</td>\n",
       "      <td>0.1550</td>\n",
       "      <td>11.5</td>\n",
       "    </tr>\n",
       "    <tr>\n",
       "      <th>4</th>\n",
       "      <td>4</td>\n",
       "      <td>1</td>\n",
       "      <td>0.330</td>\n",
       "      <td>0.255</td>\n",
       "      <td>0.080</td>\n",
       "      <td>0.2050</td>\n",
       "      <td>0.0895</td>\n",
       "      <td>0.0395</td>\n",
       "      <td>0.0550</td>\n",
       "      <td>8.5</td>\n",
       "    </tr>\n",
       "    <tr>\n",
       "      <th>...</th>\n",
       "      <td>...</td>\n",
       "      <td>...</td>\n",
       "      <td>...</td>\n",
       "      <td>...</td>\n",
       "      <td>...</td>\n",
       "      <td>...</td>\n",
       "      <td>...</td>\n",
       "      <td>...</td>\n",
       "      <td>...</td>\n",
       "      <td>...</td>\n",
       "    </tr>\n",
       "    <tr>\n",
       "      <th>2096</th>\n",
       "      <td>4165</td>\n",
       "      <td>1</td>\n",
       "      <td>0.405</td>\n",
       "      <td>0.300</td>\n",
       "      <td>0.085</td>\n",
       "      <td>0.3035</td>\n",
       "      <td>0.1500</td>\n",
       "      <td>0.0505</td>\n",
       "      <td>0.0880</td>\n",
       "      <td>8.5</td>\n",
       "    </tr>\n",
       "    <tr>\n",
       "      <th>2097</th>\n",
       "      <td>4166</td>\n",
       "      <td>1</td>\n",
       "      <td>0.475</td>\n",
       "      <td>0.365</td>\n",
       "      <td>0.115</td>\n",
       "      <td>0.4990</td>\n",
       "      <td>0.2320</td>\n",
       "      <td>0.0885</td>\n",
       "      <td>0.1560</td>\n",
       "      <td>11.5</td>\n",
       "    </tr>\n",
       "    <tr>\n",
       "      <th>2098</th>\n",
       "      <td>4167</td>\n",
       "      <td>2</td>\n",
       "      <td>0.500</td>\n",
       "      <td>0.380</td>\n",
       "      <td>0.125</td>\n",
       "      <td>0.5770</td>\n",
       "      <td>0.2690</td>\n",
       "      <td>0.1265</td>\n",
       "      <td>0.1535</td>\n",
       "      <td>10.5</td>\n",
       "    </tr>\n",
       "    <tr>\n",
       "      <th>2099</th>\n",
       "      <td>4168</td>\n",
       "      <td>0</td>\n",
       "      <td>0.515</td>\n",
       "      <td>0.400</td>\n",
       "      <td>0.125</td>\n",
       "      <td>0.6150</td>\n",
       "      <td>0.2865</td>\n",
       "      <td>0.1230</td>\n",
       "      <td>0.1765</td>\n",
       "      <td>9.5</td>\n",
       "    </tr>\n",
       "    <tr>\n",
       "      <th>2100</th>\n",
       "      <td>4170</td>\n",
       "      <td>2</td>\n",
       "      <td>0.550</td>\n",
       "      <td>0.430</td>\n",
       "      <td>0.130</td>\n",
       "      <td>0.8395</td>\n",
       "      <td>0.3155</td>\n",
       "      <td>0.1955</td>\n",
       "      <td>0.2405</td>\n",
       "      <td>11.5</td>\n",
       "    </tr>\n",
       "  </tbody>\n",
       "</table>\n",
       "<p>2101 rows × 10 columns</p>\n",
       "</div>"
      ],
      "text/plain": [
       "      index  Sex  Length  Diameter  Height  Whole weight  Shucked weight  \\\n",
       "0         0    2   0.455     0.365   0.095        0.5140          0.2245   \n",
       "1         1    2   0.350     0.265   0.090        0.2255          0.0995   \n",
       "2         2    0   0.530     0.420   0.135        0.6770          0.2565   \n",
       "3         3    2   0.440     0.365   0.125        0.5160          0.2155   \n",
       "4         4    1   0.330     0.255   0.080        0.2050          0.0895   \n",
       "...     ...  ...     ...       ...     ...           ...             ...   \n",
       "2096   4165    1   0.405     0.300   0.085        0.3035          0.1500   \n",
       "2097   4166    1   0.475     0.365   0.115        0.4990          0.2320   \n",
       "2098   4167    2   0.500     0.380   0.125        0.5770          0.2690   \n",
       "2099   4168    0   0.515     0.400   0.125        0.6150          0.2865   \n",
       "2100   4170    2   0.550     0.430   0.130        0.8395          0.3155   \n",
       "\n",
       "      Viscera weight  Shell weight  Rings  \n",
       "0             0.1010        0.1500   16.5  \n",
       "1             0.0485        0.0700    8.5  \n",
       "2             0.1415        0.2100   10.5  \n",
       "3             0.1140        0.1550   11.5  \n",
       "4             0.0395        0.0550    8.5  \n",
       "...              ...           ...    ...  \n",
       "2096          0.0505        0.0880    8.5  \n",
       "2097          0.0885        0.1560   11.5  \n",
       "2098          0.1265        0.1535   10.5  \n",
       "2099          0.1230        0.1765    9.5  \n",
       "2100          0.1955        0.2405   11.5  \n",
       "\n",
       "[2101 rows x 10 columns]"
      ]
     },
     "execution_count": 50,
     "metadata": {},
     "output_type": "execute_result"
    }
   ],
   "source": [
    "index_out = np.where(df2['Shucked weight'] > Shuckedweight_)\n",
    "df2 = df2.drop(df2.index[index_out])\n",
    "df2.shape\n",
    "df2.reset_index()"
   ]
  },
  {
   "cell_type": "markdown",
   "id": "86c63d12",
   "metadata": {},
   "source": [
    "after removing outliers in Shucked weight the 2101 rows will remains in dataframe."
   ]
  },
  {
   "cell_type": "code",
   "execution_count": 51,
   "id": "c93ab850",
   "metadata": {},
   "outputs": [
    {
     "data": {
      "text/plain": [
       "1.11475"
      ]
     },
     "execution_count": 51,
     "metadata": {},
     "output_type": "execute_result"
    }
   ],
   "source": [
    "#as shown in boxplot we have outlier in higher side of Viscera weight \n",
    "#Remove outliers from higher side so, use higher side formula\n",
    "\n",
    "Visceraweight_ = (0.502000 + (1.5*(0.502000-0.093500)))\n",
    "Visceraweight_"
   ]
  },
  {
   "cell_type": "code",
   "execution_count": 52,
   "id": "702a6c43",
   "metadata": {},
   "outputs": [
    {
     "data": {
      "text/html": [
       "<div>\n",
       "<style scoped>\n",
       "    .dataframe tbody tr th:only-of-type {\n",
       "        vertical-align: middle;\n",
       "    }\n",
       "\n",
       "    .dataframe tbody tr th {\n",
       "        vertical-align: top;\n",
       "    }\n",
       "\n",
       "    .dataframe thead th {\n",
       "        text-align: right;\n",
       "    }\n",
       "</style>\n",
       "<table border=\"1\" class=\"dataframe\">\n",
       "  <thead>\n",
       "    <tr style=\"text-align: right;\">\n",
       "      <th></th>\n",
       "      <th>index</th>\n",
       "      <th>Sex</th>\n",
       "      <th>Length</th>\n",
       "      <th>Diameter</th>\n",
       "      <th>Height</th>\n",
       "      <th>Whole weight</th>\n",
       "      <th>Shucked weight</th>\n",
       "      <th>Viscera weight</th>\n",
       "      <th>Shell weight</th>\n",
       "      <th>Rings</th>\n",
       "    </tr>\n",
       "  </thead>\n",
       "  <tbody>\n",
       "    <tr>\n",
       "      <th>0</th>\n",
       "      <td>0</td>\n",
       "      <td>2</td>\n",
       "      <td>0.455</td>\n",
       "      <td>0.365</td>\n",
       "      <td>0.095</td>\n",
       "      <td>0.5140</td>\n",
       "      <td>0.2245</td>\n",
       "      <td>0.1010</td>\n",
       "      <td>0.1500</td>\n",
       "      <td>16.5</td>\n",
       "    </tr>\n",
       "    <tr>\n",
       "      <th>1</th>\n",
       "      <td>1</td>\n",
       "      <td>2</td>\n",
       "      <td>0.350</td>\n",
       "      <td>0.265</td>\n",
       "      <td>0.090</td>\n",
       "      <td>0.2255</td>\n",
       "      <td>0.0995</td>\n",
       "      <td>0.0485</td>\n",
       "      <td>0.0700</td>\n",
       "      <td>8.5</td>\n",
       "    </tr>\n",
       "    <tr>\n",
       "      <th>2</th>\n",
       "      <td>2</td>\n",
       "      <td>0</td>\n",
       "      <td>0.530</td>\n",
       "      <td>0.420</td>\n",
       "      <td>0.135</td>\n",
       "      <td>0.6770</td>\n",
       "      <td>0.2565</td>\n",
       "      <td>0.1415</td>\n",
       "      <td>0.2100</td>\n",
       "      <td>10.5</td>\n",
       "    </tr>\n",
       "    <tr>\n",
       "      <th>3</th>\n",
       "      <td>3</td>\n",
       "      <td>2</td>\n",
       "      <td>0.440</td>\n",
       "      <td>0.365</td>\n",
       "      <td>0.125</td>\n",
       "      <td>0.5160</td>\n",
       "      <td>0.2155</td>\n",
       "      <td>0.1140</td>\n",
       "      <td>0.1550</td>\n",
       "      <td>11.5</td>\n",
       "    </tr>\n",
       "    <tr>\n",
       "      <th>4</th>\n",
       "      <td>4</td>\n",
       "      <td>1</td>\n",
       "      <td>0.330</td>\n",
       "      <td>0.255</td>\n",
       "      <td>0.080</td>\n",
       "      <td>0.2050</td>\n",
       "      <td>0.0895</td>\n",
       "      <td>0.0395</td>\n",
       "      <td>0.0550</td>\n",
       "      <td>8.5</td>\n",
       "    </tr>\n",
       "    <tr>\n",
       "      <th>...</th>\n",
       "      <td>...</td>\n",
       "      <td>...</td>\n",
       "      <td>...</td>\n",
       "      <td>...</td>\n",
       "      <td>...</td>\n",
       "      <td>...</td>\n",
       "      <td>...</td>\n",
       "      <td>...</td>\n",
       "      <td>...</td>\n",
       "      <td>...</td>\n",
       "    </tr>\n",
       "    <tr>\n",
       "      <th>2096</th>\n",
       "      <td>4165</td>\n",
       "      <td>1</td>\n",
       "      <td>0.405</td>\n",
       "      <td>0.300</td>\n",
       "      <td>0.085</td>\n",
       "      <td>0.3035</td>\n",
       "      <td>0.1500</td>\n",
       "      <td>0.0505</td>\n",
       "      <td>0.0880</td>\n",
       "      <td>8.5</td>\n",
       "    </tr>\n",
       "    <tr>\n",
       "      <th>2097</th>\n",
       "      <td>4166</td>\n",
       "      <td>1</td>\n",
       "      <td>0.475</td>\n",
       "      <td>0.365</td>\n",
       "      <td>0.115</td>\n",
       "      <td>0.4990</td>\n",
       "      <td>0.2320</td>\n",
       "      <td>0.0885</td>\n",
       "      <td>0.1560</td>\n",
       "      <td>11.5</td>\n",
       "    </tr>\n",
       "    <tr>\n",
       "      <th>2098</th>\n",
       "      <td>4167</td>\n",
       "      <td>2</td>\n",
       "      <td>0.500</td>\n",
       "      <td>0.380</td>\n",
       "      <td>0.125</td>\n",
       "      <td>0.5770</td>\n",
       "      <td>0.2690</td>\n",
       "      <td>0.1265</td>\n",
       "      <td>0.1535</td>\n",
       "      <td>10.5</td>\n",
       "    </tr>\n",
       "    <tr>\n",
       "      <th>2099</th>\n",
       "      <td>4168</td>\n",
       "      <td>0</td>\n",
       "      <td>0.515</td>\n",
       "      <td>0.400</td>\n",
       "      <td>0.125</td>\n",
       "      <td>0.6150</td>\n",
       "      <td>0.2865</td>\n",
       "      <td>0.1230</td>\n",
       "      <td>0.1765</td>\n",
       "      <td>9.5</td>\n",
       "    </tr>\n",
       "    <tr>\n",
       "      <th>2100</th>\n",
       "      <td>4170</td>\n",
       "      <td>2</td>\n",
       "      <td>0.550</td>\n",
       "      <td>0.430</td>\n",
       "      <td>0.130</td>\n",
       "      <td>0.8395</td>\n",
       "      <td>0.3155</td>\n",
       "      <td>0.1955</td>\n",
       "      <td>0.2405</td>\n",
       "      <td>11.5</td>\n",
       "    </tr>\n",
       "  </tbody>\n",
       "</table>\n",
       "<p>2101 rows × 10 columns</p>\n",
       "</div>"
      ],
      "text/plain": [
       "      index  Sex  Length  Diameter  Height  Whole weight  Shucked weight  \\\n",
       "0         0    2   0.455     0.365   0.095        0.5140          0.2245   \n",
       "1         1    2   0.350     0.265   0.090        0.2255          0.0995   \n",
       "2         2    0   0.530     0.420   0.135        0.6770          0.2565   \n",
       "3         3    2   0.440     0.365   0.125        0.5160          0.2155   \n",
       "4         4    1   0.330     0.255   0.080        0.2050          0.0895   \n",
       "...     ...  ...     ...       ...     ...           ...             ...   \n",
       "2096   4165    1   0.405     0.300   0.085        0.3035          0.1500   \n",
       "2097   4166    1   0.475     0.365   0.115        0.4990          0.2320   \n",
       "2098   4167    2   0.500     0.380   0.125        0.5770          0.2690   \n",
       "2099   4168    0   0.515     0.400   0.125        0.6150          0.2865   \n",
       "2100   4170    2   0.550     0.430   0.130        0.8395          0.3155   \n",
       "\n",
       "      Viscera weight  Shell weight  Rings  \n",
       "0             0.1010        0.1500   16.5  \n",
       "1             0.0485        0.0700    8.5  \n",
       "2             0.1415        0.2100   10.5  \n",
       "3             0.1140        0.1550   11.5  \n",
       "4             0.0395        0.0550    8.5  \n",
       "...              ...           ...    ...  \n",
       "2096          0.0505        0.0880    8.5  \n",
       "2097          0.0885        0.1560   11.5  \n",
       "2098          0.1265        0.1535   10.5  \n",
       "2099          0.1230        0.1765    9.5  \n",
       "2100          0.1955        0.2405   11.5  \n",
       "\n",
       "[2101 rows x 10 columns]"
      ]
     },
     "execution_count": 52,
     "metadata": {},
     "output_type": "execute_result"
    }
   ],
   "source": [
    "index_out = np.where(df['Viscera weight'] > Visceraweight_)\n",
    "df2 = df2.drop(df2.index[index_out])\n",
    "df2.shape\n",
    "df2.reset_index()"
   ]
  },
  {
   "cell_type": "markdown",
   "id": "fc23413a",
   "metadata": {},
   "source": [
    "after removing outliers in Viscera weight the 2101 rows will remains in dataframe."
   ]
  },
  {
   "cell_type": "markdown",
   "id": "2a3b237e",
   "metadata": {},
   "source": [
    "### After removing outliers using IQR technique there are 2101 rows will remains in dataset."
   ]
  },
  {
   "cell_type": "markdown",
   "id": "fef1a7cb",
   "metadata": {},
   "source": [
    "Now, find how much data loss in IQR method"
   ]
  },
  {
   "cell_type": "markdown",
   "id": "3eda38b6",
   "metadata": {},
   "source": [
    "49.70 % data loss after using IQR technique.\n",
    "50.30% data remains."
   ]
  },
  {
   "cell_type": "markdown",
   "id": "77a744e7",
   "metadata": {},
   "source": [
    "### After applying Zscore and IQR technique to remove outliers. We conclude that less amount data will loss in Zscore technique so we will go with Zscore technique"
   ]
  },
  {
   "cell_type": "markdown",
   "id": "f2870d1e",
   "metadata": {},
   "source": [
    "## Check the skewness and remove it"
   ]
  },
  {
   "cell_type": "code",
   "execution_count": 53,
   "id": "352f2067",
   "metadata": {},
   "outputs": [
    {
     "data": {
      "text/plain": [
       "Sex              -0.092911\n",
       "Length           -0.633786\n",
       "Diameter         -0.605450\n",
       "Height           -0.247192\n",
       "Whole weight      0.323886\n",
       "Shucked weight    0.449573\n",
       "Viscera weight    0.429932\n",
       "Shell weight      0.358512\n",
       "Rings             1.136367\n",
       "dtype: float64"
      ]
     },
     "execution_count": 53,
     "metadata": {},
     "output_type": "execute_result"
    }
   ],
   "source": [
    "new_df.skew()"
   ]
  },
  {
   "cell_type": "markdown",
   "id": "9bcc75ff",
   "metadata": {},
   "source": [
    "As we see there are some variables are skewed, whoes value is not lies between -0.5 to +0.5 this range.\n",
    "\n",
    "Length, Diameter."
   ]
  },
  {
   "cell_type": "markdown",
   "id": "383836e2",
   "metadata": {},
   "source": [
    "### Check outliers datatype. \n"
   ]
  },
  {
   "cell_type": "markdown",
   "id": "31a75b82",
   "metadata": {},
   "source": [
    "#### If data types of skewed column is integer (catogorical) than no need to remove skewness from that variable."
   ]
  },
  {
   "cell_type": "code",
   "execution_count": 54,
   "id": "554ddd02",
   "metadata": {},
   "outputs": [
    {
     "data": {
      "text/plain": [
       "Sex                 int32\n",
       "Length            float64\n",
       "Diameter          float64\n",
       "Height            float64\n",
       "Whole weight      float64\n",
       "Shucked weight    float64\n",
       "Viscera weight    float64\n",
       "Shell weight      float64\n",
       "Rings             float64\n",
       "dtype: object"
      ]
     },
     "execution_count": 54,
     "metadata": {},
     "output_type": "execute_result"
    }
   ],
   "source": [
    "new_df.dtypes"
   ]
  },
  {
   "cell_type": "markdown",
   "id": "dcbaf910",
   "metadata": {},
   "source": [
    "## Apply Power transformation to remove skewness"
   ]
  },
  {
   "cell_type": "markdown",
   "id": "61ce3803",
   "metadata": {},
   "source": [
    "In power transformation we will take the mean value in place of 0th value skewed data and convert that into normal data(distribution)/less skewed data."
   ]
  },
  {
   "cell_type": "code",
   "execution_count": 55,
   "id": "b54ffe2d",
   "metadata": {},
   "outputs": [],
   "source": [
    "#applying Power transformation on skewed columns\n",
    "\n",
    "new_df['Length'] = new_df['Length'].replace(0,new_df['Length'].mean())\n",
    "new_df['Diameter'] = new_df['Diameter'].replace(0,new_df['Diameter'].mean())"
   ]
  },
  {
   "cell_type": "code",
   "execution_count": 56,
   "id": "e86041d3",
   "metadata": {},
   "outputs": [
    {
     "data": {
      "text/plain": [
       "<AxesSubplot:xlabel='Length', ylabel='Density'>"
      ]
     },
     "execution_count": 56,
     "metadata": {},
     "output_type": "execute_result"
    },
    {
     "data": {
      "image/png": "[encoded data removed]",
      "text/plain": [
       "<Figure size 432x288 with 1 Axes>"
      ]
     },
     "metadata": {
      "needs_background": "light"
     },
     "output_type": "display_data"
    }
   ],
   "source": [
    "sns.distplot(new_df[\"Length\"], color = 'g')"
   ]
  },
  {
   "cell_type": "code",
   "execution_count": 57,
   "id": "8fe7b6c9",
   "metadata": {},
   "outputs": [
    {
     "data": {
      "text/plain": [
       "<AxesSubplot:xlabel='Diameter', ylabel='Density'>"
      ]
     },
     "execution_count": 57,
     "metadata": {},
     "output_type": "execute_result"
    },
    {
     "data": {
      "image/png": "[encoded data removed]",
      "text/plain": [
       "<Figure size 432x288 with 1 Axes>"
      ]
     },
     "metadata": {
      "needs_background": "light"
     },
     "output_type": "display_data"
    }
   ],
   "source": [
    "sns.distplot(new_df[\"Diameter\"], color = 'g')"
   ]
  },
  {
   "cell_type": "markdown",
   "id": "28e1f4fa",
   "metadata": {},
   "source": [
    "As shown in plot skewness removes after using power transformation skewness removal technique."
   ]
  },
  {
   "cell_type": "markdown",
   "id": "9a0df6ec",
   "metadata": {},
   "source": [
    "## Seperating the columns into featuers and target:"
   ]
  },
  {
   "cell_type": "markdown",
   "id": "68ef1e4b",
   "metadata": {},
   "source": [
    "### X= features, y=Target"
   ]
  },
  {
   "cell_type": "code",
   "execution_count": 58,
   "id": "652f38dc",
   "metadata": {},
   "outputs": [],
   "source": [
    "x = new_df.drop(columns = 'Rings', axis=1)\n",
    "y = new_df['Rings']"
   ]
  },
  {
   "cell_type": "markdown",
   "id": "6c1a25f6",
   "metadata": {},
   "source": [
    "## Scalling technique"
   ]
  },
  {
   "cell_type": "code",
   "execution_count": 59,
   "id": "af1b0a7e",
   "metadata": {},
   "outputs": [],
   "source": [
    "from sklearn.preprocessing import StandardScaler\n",
    "\n",
    "ss = StandardScaler()\n",
    "x_scalar = ss.fit_transform(x)"
   ]
  },
  {
   "cell_type": "markdown",
   "id": "09efd6c6",
   "metadata": {},
   "source": [
    "variables are scaled now using standard scaler technique."
   ]
  },
  {
   "cell_type": "markdown",
   "id": "3e3fb3ce",
   "metadata": {},
   "source": [
    "## Variance inflation factor"
   ]
  },
  {
   "cell_type": "code",
   "execution_count": 60,
   "id": "069c4a4d",
   "metadata": {},
   "outputs": [
    {
     "data": {
      "text/html": [
       "<div>\n",
       "<style scoped>\n",
       "    .dataframe tbody tr th:only-of-type {\n",
       "        vertical-align: middle;\n",
       "    }\n",
       "\n",
       "    .dataframe tbody tr th {\n",
       "        vertical-align: top;\n",
       "    }\n",
       "\n",
       "    .dataframe thead th {\n",
       "        text-align: right;\n",
       "    }\n",
       "</style>\n",
       "<table border=\"1\" class=\"dataframe\">\n",
       "  <thead>\n",
       "    <tr style=\"text-align: right;\">\n",
       "      <th></th>\n",
       "      <th>vif</th>\n",
       "      <th>Features</th>\n",
       "    </tr>\n",
       "  </thead>\n",
       "  <tbody>\n",
       "    <tr>\n",
       "      <th>0</th>\n",
       "      <td>1.009022</td>\n",
       "      <td>Sex</td>\n",
       "    </tr>\n",
       "    <tr>\n",
       "      <th>1</th>\n",
       "      <td>38.611958</td>\n",
       "      <td>Length</td>\n",
       "    </tr>\n",
       "    <tr>\n",
       "      <th>2</th>\n",
       "      <td>40.190290</td>\n",
       "      <td>Diameter</td>\n",
       "    </tr>\n",
       "    <tr>\n",
       "      <th>3</th>\n",
       "      <td>6.511453</td>\n",
       "      <td>Height</td>\n",
       "    </tr>\n",
       "    <tr>\n",
       "      <th>4</th>\n",
       "      <td>104.751180</td>\n",
       "      <td>Whole weight</td>\n",
       "    </tr>\n",
       "    <tr>\n",
       "      <th>5</th>\n",
       "      <td>27.414592</td>\n",
       "      <td>Shucked weight</td>\n",
       "    </tr>\n",
       "    <tr>\n",
       "      <th>6</th>\n",
       "      <td>16.684535</td>\n",
       "      <td>Viscera weight</td>\n",
       "    </tr>\n",
       "    <tr>\n",
       "      <th>7</th>\n",
       "      <td>22.985530</td>\n",
       "      <td>Shell weight</td>\n",
       "    </tr>\n",
       "  </tbody>\n",
       "</table>\n",
       "</div>"
      ],
      "text/plain": [
       "          vif        Features\n",
       "0    1.009022             Sex\n",
       "1   38.611958          Length\n",
       "2   40.190290        Diameter\n",
       "3    6.511453          Height\n",
       "4  104.751180    Whole weight\n",
       "5   27.414592  Shucked weight\n",
       "6   16.684535  Viscera weight\n",
       "7   22.985530    Shell weight"
      ]
     },
     "execution_count": 60,
     "metadata": {},
     "output_type": "execute_result"
    }
   ],
   "source": [
    "#import libraries\n",
    "from statsmodels.stats.outliers_influence import variance_inflation_factor\n",
    "\n",
    "vif = pd.DataFrame()\n",
    "vif[\"vif\"] = [variance_inflation_factor(x_scalar, i) for i in range(x_scalar.shape[1])]\n",
    "vif[\"Features\"] = x.columns\n",
    "\n",
    "#lets check the values\n",
    "vif\n"
   ]
  },
  {
   "cell_type": "markdown",
   "id": "a6b5a845",
   "metadata": {},
   "source": [
    "as we have seen in the table vif value is greater than 5 for many columns, so drop maximum value column to avoid multicollinearity issue."
   ]
  },
  {
   "cell_type": "code",
   "execution_count": 61,
   "id": "8722a95e",
   "metadata": {},
   "outputs": [],
   "source": [
    "new_df=new_df.drop(['Whole weight'], axis=1)\n"
   ]
  },
  {
   "cell_type": "code",
   "execution_count": 62,
   "id": "d4b7418b",
   "metadata": {},
   "outputs": [],
   "source": [
    "x = new_df.drop(columns = 'Rings', axis=1)\n",
    "y = new_df['Rings']"
   ]
  },
  {
   "cell_type": "code",
   "execution_count": 63,
   "id": "b3a7d156",
   "metadata": {},
   "outputs": [],
   "source": [
    "from sklearn.preprocessing import StandardScaler\n",
    "\n",
    "ss = StandardScaler()\n",
    "x_scalar = ss.fit_transform(x)"
   ]
  },
  {
   "cell_type": "code",
   "execution_count": 64,
   "id": "88756d76",
   "metadata": {},
   "outputs": [
    {
     "data": {
      "text/html": [
       "<div>\n",
       "<style scoped>\n",
       "    .dataframe tbody tr th:only-of-type {\n",
       "        vertical-align: middle;\n",
       "    }\n",
       "\n",
       "    .dataframe tbody tr th {\n",
       "        vertical-align: top;\n",
       "    }\n",
       "\n",
       "    .dataframe thead th {\n",
       "        text-align: right;\n",
       "    }\n",
       "</style>\n",
       "<table border=\"1\" class=\"dataframe\">\n",
       "  <thead>\n",
       "    <tr style=\"text-align: right;\">\n",
       "      <th></th>\n",
       "      <th>vif</th>\n",
       "      <th>Features</th>\n",
       "    </tr>\n",
       "  </thead>\n",
       "  <tbody>\n",
       "    <tr>\n",
       "      <th>0</th>\n",
       "      <td>1.008920</td>\n",
       "      <td>Sex</td>\n",
       "    </tr>\n",
       "    <tr>\n",
       "      <th>1</th>\n",
       "      <td>38.610404</td>\n",
       "      <td>Length</td>\n",
       "    </tr>\n",
       "    <tr>\n",
       "      <th>2</th>\n",
       "      <td>40.182772</td>\n",
       "      <td>Diameter</td>\n",
       "    </tr>\n",
       "    <tr>\n",
       "      <th>3</th>\n",
       "      <td>6.505966</td>\n",
       "      <td>Height</td>\n",
       "    </tr>\n",
       "    <tr>\n",
       "      <th>4</th>\n",
       "      <td>9.103150</td>\n",
       "      <td>Shucked weight</td>\n",
       "    </tr>\n",
       "    <tr>\n",
       "      <th>5</th>\n",
       "      <td>10.630685</td>\n",
       "      <td>Viscera weight</td>\n",
       "    </tr>\n",
       "    <tr>\n",
       "      <th>6</th>\n",
       "      <td>9.654119</td>\n",
       "      <td>Shell weight</td>\n",
       "    </tr>\n",
       "  </tbody>\n",
       "</table>\n",
       "</div>"
      ],
      "text/plain": [
       "         vif        Features\n",
       "0   1.008920             Sex\n",
       "1  38.610404          Length\n",
       "2  40.182772        Diameter\n",
       "3   6.505966          Height\n",
       "4   9.103150  Shucked weight\n",
       "5  10.630685  Viscera weight\n",
       "6   9.654119    Shell weight"
      ]
     },
     "execution_count": 64,
     "metadata": {},
     "output_type": "execute_result"
    }
   ],
   "source": [
    "vif = pd.DataFrame()\n",
    "vif[\"vif\"] = [variance_inflation_factor(x_scalar, i) for i in range(x_scalar.shape[1])]\n",
    "vif[\"Features\"] = x.columns\n",
    "\n",
    "#lets check the values\n",
    "vif"
   ]
  },
  {
   "cell_type": "code",
   "execution_count": 65,
   "id": "169c8551",
   "metadata": {},
   "outputs": [],
   "source": [
    "from sklearn.model_selection import train_test_split\n",
    "from sklearn.metrics import r2_score"
   ]
  },
  {
   "cell_type": "markdown",
   "id": "c1b35074",
   "metadata": {},
   "source": [
    "## Finding best random state"
   ]
  },
  {
   "cell_type": "code",
   "execution_count": 66,
   "id": "76dff964",
   "metadata": {},
   "outputs": [
    {
     "name": "stdout",
     "output_type": "stream",
     "text": [
      "Best accuracy is  0.1959936343549986 on Random_state  81\n"
     ]
    }
   ],
   "source": [
    "from sklearn.tree import DecisionTreeRegressor\n",
    "maxAccuracy = 0\n",
    "maxRandomState = 0\n",
    "for i in range(1,200):\n",
    "    x_train, x_test, y_train, y_test = train_test_split(x,y, test_size=.30, random_state=i)\n",
    "    mod= DecisionTreeRegressor()\n",
    "    mod.fit(x_train, y_train)\n",
    "    pred = mod.predict(x_test)\n",
    "    acc=r2_score(y_test, pred)\n",
    "    if acc>maxAccuracy:\n",
    "        maxAccuracy=acc\n",
    "        maxRandomState=i\n",
    "print(\"Best accuracy is \",maxAccuracy, \"on Random_state \", maxRandomState)"
   ]
  },
  {
   "cell_type": "code",
   "execution_count": 67,
   "id": "b343a2ef",
   "metadata": {},
   "outputs": [],
   "source": [
    "x_train,x_test,y_train,y_test = train_test_split(x_scalar, y, test_size=0.2, random_state = 81)"
   ]
  },
  {
   "cell_type": "markdown",
   "id": "3ab9e3a3",
   "metadata": {},
   "source": [
    "## 1. Linear Regression Model"
   ]
  },
  {
   "cell_type": "code",
   "execution_count": 68,
   "id": "55188a58",
   "metadata": {},
   "outputs": [
    {
     "data": {
      "text/plain": [
       "LinearRegression()"
      ]
     },
     "execution_count": 68,
     "metadata": {},
     "output_type": "execute_result"
    }
   ],
   "source": [
    "from sklearn.linear_model import LinearRegression\n",
    "\n",
    "Lr=LinearRegression()\n",
    "Lr.fit(x_train, y_train)"
   ]
  },
  {
   "cell_type": "code",
   "execution_count": 69,
   "id": "47a4a07d",
   "metadata": {},
   "outputs": [],
   "source": [
    "pred_test=Lr.predict(x_test)"
   ]
  },
  {
   "cell_type": "code",
   "execution_count": 70,
   "id": "72336836",
   "metadata": {},
   "outputs": [
    {
     "name": "stdout",
     "output_type": "stream",
     "text": [
      "0.52871789981006\n"
     ]
    }
   ],
   "source": [
    "print(r2_score(y_test,pred_test))"
   ]
  },
  {
   "cell_type": "markdown",
   "id": "713d9fc4",
   "metadata": {},
   "source": [
    "## Cross Validation of Linear Regression"
   ]
  },
  {
   "cell_type": "code",
   "execution_count": 71,
   "id": "cc31932e",
   "metadata": {},
   "outputs": [
    {
     "data": {
      "text/plain": [
       "0.37665239945152146"
      ]
     },
     "execution_count": 71,
     "metadata": {},
     "output_type": "execute_result"
    }
   ],
   "source": [
    "from sklearn.model_selection import cross_val_score\n",
    "cv_score= cross_val_score(Lr, x, y, cv=5)\n",
    "cv_mean=cv_score.mean()\n",
    "cv_mean"
   ]
  },
  {
   "cell_type": "markdown",
   "id": "8e4962c4",
   "metadata": {},
   "source": [
    "## Regularization"
   ]
  },
  {
   "cell_type": "code",
   "execution_count": 72,
   "id": "e9393140",
   "metadata": {},
   "outputs": [
    {
     "name": "stdout",
     "output_type": "stream",
     "text": [
      "{'alpha': 0.01, 'random_state': 0}\n"
     ]
    }
   ],
   "source": [
    "from sklearn.model_selection import GridSearchCV\n",
    "from sklearn.linear_model import Lasso\n",
    "\n",
    "parameters = {'alpha' :[.0001, .001, .01, .1, 1, 10], 'random_state':list(range(0,10))}\n",
    "ls = Lasso()\n",
    "clf = GridSearchCV(ls, parameters)\n",
    "clf.fit(x_train, y_train)\n",
    "\n",
    "print(clf.best_params_)"
   ]
  },
  {
   "cell_type": "code",
   "execution_count": 73,
   "id": "64637c0e",
   "metadata": {},
   "outputs": [
    {
     "data": {
      "text/plain": [
       "0.5250721094904283"
      ]
     },
     "execution_count": 73,
     "metadata": {},
     "output_type": "execute_result"
    }
   ],
   "source": [
    "ls = Lasso(alpha = 0.01, random_state=0)\n",
    "ls.fit(x_train, y_train)\n",
    "ls.score(x_train, y_train)\n",
    "pred_ls = ls.predict(x_test)\n",
    "\n",
    "laso = r2_score(y_test, pred_ls)\n",
    "laso"
   ]
  },
  {
   "cell_type": "code",
   "execution_count": 74,
   "id": "7c702a5b",
   "metadata": {},
   "outputs": [
    {
     "data": {
      "text/plain": [
       "0.352625399787191"
      ]
     },
     "execution_count": 74,
     "metadata": {},
     "output_type": "execute_result"
    }
   ],
   "source": [
    "cv_score= cross_val_score(ls, x, y, cv=5)\n",
    "cv_mean=cv_score.mean()\n",
    "cv_mean"
   ]
  },
  {
   "cell_type": "markdown",
   "id": "0244096b",
   "metadata": {},
   "source": [
    "The r2 score for linear regression model is : 52.50%\n",
    "\n",
    "Cross validation score for linear regression is : 35.26%"
   ]
  },
  {
   "cell_type": "markdown",
   "id": "84ab11a0",
   "metadata": {},
   "source": [
    "## 2. Random Forest Regression"
   ]
  },
  {
   "cell_type": "code",
   "execution_count": 75,
   "id": "58e15e56",
   "metadata": {},
   "outputs": [
    {
     "name": "stdout",
     "output_type": "stream",
     "text": [
      "{'criterion': 'mse', 'max_features': 'log2'}\n"
     ]
    }
   ],
   "source": [
    "from sklearn.model_selection import GridSearchCV\n",
    "from sklearn.ensemble import RandomForestRegressor\n",
    "\n",
    "parameters ={'criterion':['mse', 'mae'], 'max_features':[\"auto\",\"sqrt\",\"log2\"]}\n",
    "Rfr= RandomForestRegressor()\n",
    "clf =GridSearchCV(Rfr, parameters)\n",
    "clf.fit(x_train, y_train)\n",
    "\n",
    "print(clf.best_params_)"
   ]
  },
  {
   "cell_type": "code",
   "execution_count": 76,
   "id": "a8dff1c9",
   "metadata": {},
   "outputs": [
    {
     "name": "stdout",
     "output_type": "stream",
     "text": [
      "R2 Score:  52.991682297325916\n",
      "Cross Val Score:  49.76234963918449\n"
     ]
    }
   ],
   "source": [
    "Rfr =RandomForestRegressor(criterion = \"mse\", max_features=\"log2\")\n",
    "Rfr.fit(x_train, y_train)\n",
    "Rfr.score(x_train, y_train)\n",
    "pred_decision = Rfr.predict(x_test)\n",
    "\n",
    "Rfrs = r2_score(y_test,pred_decision)\n",
    "print('R2 Score: ',Rfrs*100)\n",
    "\n",
    "Rfrscore = cross_val_score(Rfr, x, y, cv=3)\n",
    "Rfrc = Rfrscore.mean()\n",
    "print('Cross Val Score: ',Rfrc*100)"
   ]
  },
  {
   "cell_type": "markdown",
   "id": "9753e225",
   "metadata": {},
   "source": [
    "The r2 score for Random Forest Regressor model is : 52.99%\n",
    "    \n",
    "Cross validation score for Random Forest Regressor is : 49.76%"
   ]
  },
  {
   "cell_type": "markdown",
   "id": "6fbbf665",
   "metadata": {},
   "source": [
    "## 3. Decision Tree Regressor"
   ]
  },
  {
   "cell_type": "code",
   "execution_count": 77,
   "id": "323d51a8",
   "metadata": {},
   "outputs": [
    {
     "data": {
      "text/plain": [
       "DecisionTreeRegressor()"
      ]
     },
     "execution_count": 77,
     "metadata": {},
     "output_type": "execute_result"
    }
   ],
   "source": [
    "from sklearn.tree import DecisionTreeRegressor\n",
    "from sklearn.metrics import mean_absolute_error\n",
    "\n",
    "dtree = DecisionTreeRegressor()\n",
    "dtree.fit(x_train, y_train)"
   ]
  },
  {
   "cell_type": "code",
   "execution_count": 78,
   "id": "12e7dbdc",
   "metadata": {},
   "outputs": [
    {
     "name": "stdout",
     "output_type": "stream",
     "text": [
      "0.13062541931075144\n"
     ]
    }
   ],
   "source": [
    "pred_dtree = dtree.predict(x_test)\n",
    "print(r2_score(y_test,pred_dtree))"
   ]
  },
  {
   "cell_type": "code",
   "execution_count": 79,
   "id": "e8a7153c",
   "metadata": {},
   "outputs": [
    {
     "data": {
      "text/plain": [
       "-0.27076178976093057"
      ]
     },
     "execution_count": 79,
     "metadata": {},
     "output_type": "execute_result"
    }
   ],
   "source": [
    "cv_score= cross_val_score(dtree, x, y, cv=5)\n",
    "cv_mean=cv_score.mean()\n",
    "cv_mean"
   ]
  },
  {
   "cell_type": "markdown",
   "id": "d1b704a8",
   "metadata": {},
   "source": [
    "The r2 score for Decision tree regression model is : 13.06%\n",
    "    \n",
    "Cross validation score for Decision tree regression is : 27.07%"
   ]
  },
  {
   "cell_type": "markdown",
   "id": "695df25c",
   "metadata": {},
   "source": [
    "## 4. Support Vector Regressor"
   ]
  },
  {
   "cell_type": "code",
   "execution_count": 80,
   "id": "7e953dfb",
   "metadata": {},
   "outputs": [
    {
     "data": {
      "text/plain": [
       "SVR()"
      ]
     },
     "execution_count": 80,
     "metadata": {},
     "output_type": "execute_result"
    }
   ],
   "source": [
    "from sklearn.svm import SVR\n",
    "\n",
    "svr = SVR()\n",
    "svr.fit(x_train, y_train)"
   ]
  },
  {
   "cell_type": "code",
   "execution_count": 81,
   "id": "744eeb7b",
   "metadata": {},
   "outputs": [
    {
     "name": "stdout",
     "output_type": "stream",
     "text": [
      "0.5119728928677552\n"
     ]
    }
   ],
   "source": [
    "pred_svr = svr.predict(x_test)\n",
    "print(r2_score(y_test,pred_svr))"
   ]
  },
  {
   "cell_type": "code",
   "execution_count": 82,
   "id": "7c2b4953",
   "metadata": {},
   "outputs": [
    {
     "data": {
      "text/plain": [
       "0.4087381166116793"
      ]
     },
     "execution_count": 82,
     "metadata": {},
     "output_type": "execute_result"
    }
   ],
   "source": [
    "cv_score= cross_val_score(svr, x, y, cv=5)\n",
    "cv_mean=cv_score.mean()\n",
    "cv_mean"
   ]
  },
  {
   "cell_type": "markdown",
   "id": "5b5c6e90",
   "metadata": {},
   "source": [
    "The r2 score for SVR model is : 51.19%\n",
    "    \n",
    "Cross validation score for SVR is : 40.87%"
   ]
  },
  {
   "cell_type": "markdown",
   "id": "969b2eff",
   "metadata": {},
   "source": [
    "## Compare all models"
   ]
  },
  {
   "cell_type": "markdown",
   "id": "c264b35b",
   "metadata": {},
   "source": [
    "The diffrence between r2 score and cross validation score of linear regression model is : 17.24%\n",
    "\n",
    "The diffrence between r2 score and cross validation score Random Forest Regressor model is : 3.23%\n",
    "\n",
    "The diffrence between r2 score and cross validation score of Decision Tree Regressor model is : 14.01%\n",
    "\n",
    "The diffrence between r2 score and cross validation score of SVR model is : 10.32%"
   ]
  },
  {
   "cell_type": "markdown",
   "id": "5afe7381",
   "metadata": {},
   "source": [
    "### So, best model is Random Forest Regressor."
   ]
  },
  {
   "cell_type": "markdown",
   "id": "365c7928",
   "metadata": {},
   "source": [
    "## Hyper parameter tunning"
   ]
  },
  {
   "cell_type": "code",
   "execution_count": 83,
   "id": "a345d7a6",
   "metadata": {},
   "outputs": [],
   "source": [
    "#Random forest Classifier\n",
    "\n",
    "Parameters = {'n_estimators' : [200, 700],\n",
    "              'max_features' : ['auto', 'sqrt', 'log2'],\n",
    "              'max_depth' : [4, 5, 6, 7, 8],\n",
    "              'criterion' : ['mse', 'mae']}"
   ]
  },
  {
   "cell_type": "code",
   "execution_count": 84,
   "id": "41af92d9",
   "metadata": {},
   "outputs": [],
   "source": [
    "GCV=GridSearchCV(RandomForestRegressor(),Parameters,cv=5)"
   ]
  },
  {
   "cell_type": "code",
   "execution_count": 85,
   "id": "58460f2b",
   "metadata": {},
   "outputs": [
    {
     "data": {
      "text/plain": [
       "GridSearchCV(cv=5, estimator=RandomForestRegressor(),\n",
       "             param_grid={'criterion': ['mse', 'mae'],\n",
       "                         'max_depth': [4, 5, 6, 7, 8],\n",
       "                         'max_features': ['auto', 'sqrt', 'log2'],\n",
       "                         'n_estimators': [200, 700]})"
      ]
     },
     "execution_count": 85,
     "metadata": {},
     "output_type": "execute_result"
    }
   ],
   "source": [
    "GCV.fit(x_train, y_train)"
   ]
  },
  {
   "cell_type": "code",
   "execution_count": 86,
   "id": "014835de",
   "metadata": {},
   "outputs": [
    {
     "data": {
      "text/plain": [
       "{'criterion': 'mse',\n",
       " 'max_depth': 7,\n",
       " 'max_features': 'auto',\n",
       " 'n_estimators': 700}"
      ]
     },
     "execution_count": 86,
     "metadata": {},
     "output_type": "execute_result"
    }
   ],
   "source": [
    "GCV.best_params_ # printing the best parameters found by GridSearchCV"
   ]
  },
  {
   "cell_type": "code",
   "execution_count": 87,
   "id": "e06b557c",
   "metadata": {},
   "outputs": [
    {
     "name": "stdout",
     "output_type": "stream",
     "text": [
      "55.0441434429534\n"
     ]
    }
   ],
   "source": [
    "mod = RandomForestRegressor( criterion='mse', max_depth=7 , max_features='auto', n_estimators=700)\n",
    "\n",
    "mod.fit(x_train, y_train)\n",
    "pred =mod.predict(x_test)\n",
    "print(r2_score(y_test, pred)*100)"
   ]
  },
  {
   "cell_type": "markdown",
   "id": "fdd327da",
   "metadata": {},
   "source": [
    "after hyper parameter tuning rendom forest regressor value is 55.04%"
   ]
  },
  {
   "cell_type": "markdown",
   "id": "29ed62dc",
   "metadata": {},
   "source": [
    "## Saving the model"
   ]
  },
  {
   "cell_type": "code",
   "execution_count": 88,
   "id": "d4b622c8",
   "metadata": {},
   "outputs": [],
   "source": [
    "#creating binary file first\n",
    "\n",
    "with open(\"model_pickle\", \"wb\") as f:\n",
    "    pickle.dump(Rfrc, f)"
   ]
  },
  {
   "cell_type": "code",
   "execution_count": 89,
   "id": "dbce64b4",
   "metadata": {},
   "outputs": [],
   "source": [
    "#reading Bbinary file\n",
    "\n",
    "with open(\"model_pickle\",\"rb\") as f:\n",
    "    mp=pickle.load(f)"
   ]
  },
  {
   "cell_type": "markdown",
   "id": "8a24f663",
   "metadata": {},
   "source": [
    "Model is saved."
   ]
  },
  {
   "cell_type": "code",
   "execution_count": null,
   "id": "c5590f1f",
   "metadata": {},
   "outputs": [],
   "source": []
  }
 ],
 "metadata": {
  "kernelspec": {
   "display_name": "Python 3 (ipykernel)",
   "language": "python",
   "name": "python3"
  },
  "language_info": {
   "codemirror_mode": {
    "name": "ipython",
    "version": 3
   },
   "file_extension": ".py",
   "mimetype": "text/x-python",
   "name": "python",
   "nbconvert_exporter": "python",
   "pygments_lexer": "ipython3",
   "version": "3.9.7"
  }
 },
 "nbformat": 4,
 "nbformat_minor": 5
}
